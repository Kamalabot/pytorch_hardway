{
 "cells": [
  {
   "cell_type": "code",
   "execution_count": 1,
   "metadata": {},
   "outputs": [],
   "source": [
    "import torch\n",
    "from torch import nn\n",
    "from torch import optim"
   ]
  },
  {
   "cell_type": "code",
   "execution_count": 2,
   "metadata": {},
   "outputs": [],
   "source": [
    "# Define the Neural Network\n",
    "class Autoencoder(nn.Module):\n",
    "    def __init__(self, input_size, hidden_size):\n",
    "        super(Autoencoder, self).__init__()\n",
    "        self.encoder = nn.Linear(input_size, hidden_size)\n",
    "        self.decoder = nn.Linear(hidden_size, input_size)\n",
    "\n",
    "    def forward(self, x):\n",
    "        x = self.encoder(x)\n",
    "        x = self.decoder(x)\n",
    "        return x"
   ]
  },
  {
   "cell_type": "code",
   "execution_count": 3,
   "metadata": {},
   "outputs": [],
   "source": [
    "# Toy Dataset for Autoencoder\n",
    "input_size_autoencoder = 50\n",
    "hidden_size_autoencoder = 20\n",
    "autoencoder_data = torch.randn(200, input_size_autoencoder)\n",
    "autoencoder_labels = autoencoder_data\n",
    "\n",
    "# Instantiate the model, loss function, and optimizer\n",
    "model_autoencoder = Autoencoder(input_size_autoencoder, hidden_size_autoencoder)\n",
    "criterion_autoencoder = nn.MSELoss()\n",
    "optimizer_autoencoder = optim.SGD(model_autoencoder.parameters(), lr=0.01)\n"
   ]
  },
  {
   "cell_type": "code",
   "execution_count": 4,
   "metadata": {},
   "outputs": [
    {
     "name": "stdout",
     "output_type": "stream",
     "text": [
      "Autoencoder Output: tensor([[ 0.2043,  0.2791,  0.1017,  0.1332, -0.1615,  0.4280, -0.0775,  0.1217,\n",
      "         -0.9625,  0.1193,  0.1021, -0.5115, -0.1007, -0.2316,  0.1003, -0.5247,\n",
      "         -0.1685, -0.2072, -0.2284,  0.9719, -0.3605, -0.2986,  0.4262, -0.2096,\n",
      "          0.1881, -0.2368,  0.0996, -0.0026, -0.4278,  0.2761,  0.2303, -0.4208,\n",
      "          0.0419,  0.5980, -0.0572, -0.2189, -0.7235,  0.0645, -0.0209, -0.2098,\n",
      "          0.4302, -0.4668, -0.6332,  0.1298,  0.0839, -0.1285, -0.4273, -0.0216,\n",
      "          0.4087,  0.2856]])\n"
     ]
    }
   ],
   "source": [
    "\n",
    "# Training Loop\n",
    "for epoch in range(1000):\n",
    "    # Forward pass\n",
    "    outputs = model_autoencoder(autoencoder_data)\n",
    "    loss = criterion_autoencoder(outputs, autoencoder_labels)\n",
    "\n",
    "    # Backward pass and optimization\n",
    "    optimizer_autoencoder.zero_grad()\n",
    "    loss.backward()\n",
    "    optimizer_autoencoder.step()\n",
    "\n",
    "# Evaluate the trained model\n",
    "with torch.no_grad():\n",
    "    test_data_autoencoder = torch.randn(1, input_size_autoencoder)\n",
    "    reconstructed_output_autoencoder = model_autoencoder(test_data_autoencoder)\n",
    "    print(\"Autoencoder Output:\", reconstructed_output_autoencoder)\n"
   ]
  }
 ],
 "metadata": {
  "kernelspec": {
   "display_name": "Python 3",
   "language": "python",
   "name": "python3"
  },
  "language_info": {
   "codemirror_mode": {
    "name": "ipython",
    "version": 3
   },
   "file_extension": ".py",
   "mimetype": "text/x-python",
   "name": "python",
   "nbconvert_exporter": "python",
   "pygments_lexer": "ipython3",
   "version": "3.11.4"
  }
 },
 "nbformat": 4,
 "nbformat_minor": 2
}
