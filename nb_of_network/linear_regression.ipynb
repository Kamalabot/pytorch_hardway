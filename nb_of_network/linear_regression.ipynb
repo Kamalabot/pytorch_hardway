{
 "cells": [
  {
   "cell_type": "markdown",
   "metadata": {},
   "source": [
    "### This notebook deals with all things Linear Regression. Starting with basic NN"
   ]
  },
  {
   "cell_type": "code",
   "execution_count": 1,
   "metadata": {},
   "outputs": [],
   "source": [
    "import torch\n",
    "from torch import nn\n",
    "from torch.nn import functional as F \n",
    "from torch import optim"
   ]
  },
  {
   "cell_type": "code",
   "execution_count": 85,
   "metadata": {},
   "outputs": [],
   "source": [
    "# Defining a simple NN model\n",
    "\n",
    "class RegressionNN(nn.Module):\n",
    "    def __init__(self, in_features, out_features, hidden_features):\n",
    "        super(RegressionNN, self).__init__()\n",
    "        self.lin1 = nn.Linear(in_features, hidden_features)  # first layer connected to hidden\n",
    "        self.relu = nn.ReLU()\n",
    "        self.lin2 = nn.Linear(hidden_features, out_features)  # hidden to out features\n",
    "\n",
    "    def forward(self, x):\n",
    "        x = self.lin1(x)\n",
    "        # print(x)\n",
    "        x = self.relu(x)\n",
    "        # print(x)\n",
    "        x = self.lin2(x)\n",
    "        # print(x)\n",
    "        return x\n",
    "    \n",
    "regmodel = RegressionNN(4, 1, 10)"
   ]
  },
  {
   "cell_type": "code",
   "execution_count": 36,
   "metadata": {},
   "outputs": [
    {
     "name": "stdout",
     "output_type": "stream",
     "text": [
      "(100, 4)\n",
      "(100,)\n"
     ]
    }
   ],
   "source": [
    "from sklearn import datasets\n",
    "\n",
    "x, y = datasets.make_regression(n_features=4, n_targets=1, \n",
    "                                n_samples=100, noise=25, random_state=123)\n",
    "print(x.shape)\n",
    "print(y.shape)"
   ]
  },
  {
   "cell_type": "code",
   "execution_count": 86,
   "metadata": {},
   "outputs": [
    {
     "data": {
      "text/plain": [
       "tensor([0.4418], grad_fn=<ViewBackward0>)"
      ]
     },
     "execution_count": 86,
     "metadata": {},
     "output_type": "execute_result"
    }
   ],
   "source": [
    "regmodel(rand_x[3])"
   ]
  },
  {
   "cell_type": "code",
   "execution_count": 51,
   "metadata": {},
   "outputs": [],
   "source": [
    "rand_x = torch.randn(100, 4)\n",
    "rand_y = 3 * rand_x[:][0] + 2 * rand_x[:][1] - 5.6 * rand_x[:][2]"
   ]
  },
  {
   "cell_type": "code",
   "execution_count": 62,
   "metadata": {},
   "outputs": [
    {
     "data": {
      "text/plain": [
       "torch.Size([4, 100])"
      ]
     },
     "execution_count": 62,
     "metadata": {},
     "output_type": "execute_result"
    }
   ],
   "source": [
    "rand_x.T.shape"
   ]
  },
  {
   "cell_type": "code",
   "execution_count": 67,
   "metadata": {},
   "outputs": [
    {
     "data": {
      "text/plain": [
       "torch.Size([100])"
      ]
     },
     "execution_count": 67,
     "metadata": {},
     "output_type": "execute_result"
    }
   ],
   "source": [
    "rand_y = torch.tensor([x[0] * 3 + x[1] * 2.5 + x[2] * -0.5 + x[3] for x in rand_x], dtype=torch.float32)\n",
    "rand_y.shape"
   ]
  },
  {
   "cell_type": "code",
   "execution_count": null,
   "metadata": {},
   "outputs": [],
   "source": [
    "rand_x.T[0] * 3 + rand_x.T[1] * 2.5 + rand_x.T[2] * -0.5 + rand_x.T[3]"
   ]
  },
  {
   "cell_type": "code",
   "execution_count": null,
   "metadata": {},
   "outputs": [],
   "source": [
    "rand_y = rand_y.reshape(-1, 1)\n",
    "rand_y"
   ]
  },
  {
   "cell_type": "code",
   "execution_count": 11,
   "metadata": {},
   "outputs": [
    {
     "data": {
      "text/plain": [
       "tensor([4.])"
      ]
     },
     "execution_count": 11,
     "metadata": {},
     "output_type": "execute_result"
    }
   ],
   "source": [
    "te = torch.arange(1, 5, 1, dtype=torch.float32)\n",
    "te = te.reshape(-1, 1)\n",
    "te[3]"
   ]
  },
  {
   "cell_type": "code",
   "execution_count": 37,
   "metadata": {},
   "outputs": [],
   "source": [
    "from torch.utils.data import DataLoader, Dataset\n",
    "import numpy as np\n",
    "\n",
    "class Regset(Dataset):\n",
    "    def __init__(self, x, y):\n",
    "        self.x = torch.from_numpy(x.astype(np.float32))\n",
    "        self.y = torch.from_numpy(y.astype(np.float32))\n",
    "        self.y = self.y.reshape(-1, 1)\n",
    "        self.samples = self.x.shape[0]\n",
    "\n",
    "    def __getitem__(self, index):\n",
    "        return self.x[index], self.y[index]\n",
    "\n",
    "    def __len__(self):\n",
    "        return self.samples"
   ]
  },
  {
   "cell_type": "code",
   "execution_count": 38,
   "metadata": {},
   "outputs": [
    {
     "data": {
      "text/plain": [
       "(tensor([-1.0075, -1.3058, -0.8828,  0.7898]), tensor([-281.0297]))"
      ]
     },
     "execution_count": 38,
     "metadata": {},
     "output_type": "execute_result"
    }
   ],
   "source": [
    "regset = Regset(x=x, y=y)\n",
    "regset[1]"
   ]
  },
  {
   "cell_type": "code",
   "execution_count": 13,
   "metadata": {},
   "outputs": [
    {
     "data": {
      "text/plain": [
       "[tensor([[-1.4161, -0.6691,  1.6122, -0.2749],\n",
       "         [-1.0075, -1.3058, -0.8828,  0.7898],\n",
       "         [-1.4187, -0.8654, -1.3747,  0.9566]]),\n",
       " tensor([[ -65.6311],\n",
       "         [-281.0297],\n",
       "         [-337.7547]])]"
      ]
     },
     "execution_count": 13,
     "metadata": {},
     "output_type": "execute_result"
    }
   ],
   "source": [
    "regloader = DataLoader(regset, 3)\n",
    "iterable_loader = iter(regloader)\n",
    "next(iterable_loader)"
   ]
  },
  {
   "cell_type": "code",
   "execution_count": 92,
   "metadata": {},
   "outputs": [],
   "source": [
    "criterion = nn.MSELoss()\n",
    "optimiser = optim.Adam(params=regmodel.parameters(), lr=0.01)"
   ]
  },
  {
   "cell_type": "code",
   "execution_count": null,
   "metadata": {},
   "outputs": [],
   "source": [
    "# 100 pass through the full data using dataloader\n",
    "for ep in range(100):\n",
    "    for ind, batch in enumerate(regloader):\n",
    "        # print(batch[0].shape)  # torch.size([3, 4])\n",
    "        pred_batch  = regmodel(batch[0])\n",
    "        loss_cr = criterion(pred_batch, batch[1])\n",
    "        # print(loss_cr.item())\n",
    "        loss_cr.backward()  # backward pass happens with ease, even though there are multiple elements\n",
    "        optimiser.step()\n",
    "        optimiser.zero_grad()\n",
    "    if ep % 5 == 0:\n",
    "        print(f\"Epoch is {ep} and loss is: {loss_cr.item():.2f}\")"
   ]
  },
  {
   "cell_type": "code",
   "execution_count": 25,
   "metadata": {},
   "outputs": [
    {
     "data": {
      "text/plain": [
       "(tensor([-1.4161, -0.6691,  1.6122, -0.2749]), tensor([-65.6311]))"
      ]
     },
     "execution_count": 25,
     "metadata": {},
     "output_type": "execute_result"
    }
   ],
   "source": [
    "regset[0]"
   ]
  },
  {
   "cell_type": "code",
   "execution_count": 28,
   "metadata": {},
   "outputs": [
    {
     "name": "stdout",
     "output_type": "stream",
     "text": [
      "tensor([0.0724])\n",
      "compared to:  tensor([-65.6311])\n"
     ]
    }
   ],
   "source": [
    "with torch.no_grad():\n",
    "    test_pred = regmodel(regset[0][0])\n",
    "    print(test_pred)\n",
    "    print(\"compared to: \", regset[0][1])"
   ]
  },
  {
   "cell_type": "code",
   "execution_count": null,
   "metadata": {},
   "outputs": [],
   "source": [
    "# 100 pass through full data using regular tensor\n",
    "for ep in range(150):\n",
    "    pred = regmodel(rand_x)\n",
    "    # print('pred', pred)\n",
    "    lo = criterion(pred, rand_y)\n",
    "    # print(lo)\n",
    "    lo.backward()\n",
    "    optimiser.step()\n",
    "    optimiser.zero_grad()\n",
    "    if ep % 5 == 0:\n",
    "        print(f\"Epoch is {ep} and loss is {lo.item():.3f}\")"
   ]
  },
  {
   "cell_type": "code",
   "execution_count": 94,
   "metadata": {},
   "outputs": [
    {
     "name": "stdout",
     "output_type": "stream",
     "text": [
      "tensor([-5.2124]) tensor([-5.3929])\n"
     ]
    }
   ],
   "source": [
    "with torch.no_grad():\n",
    "    pred = regmodel(rand_x[0])\n",
    "    print(pred, rand_y[0])"
   ]
  }
 ],
 "metadata": {
  "kernelspec": {
   "display_name": "Python 3",
   "language": "python",
   "name": "python3"
  },
  "language_info": {
   "codemirror_mode": {
    "name": "ipython",
    "version": 3
   },
   "file_extension": ".py",
   "mimetype": "text/x-python",
   "name": "python",
   "nbconvert_exporter": "python",
   "pygments_lexer": "ipython3",
   "version": "3.11.4"
  }
 },
 "nbformat": 4,
 "nbformat_minor": 2
}
