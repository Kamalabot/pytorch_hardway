{
 "cells": [
  {
   "cell_type": "code",
   "execution_count": 1,
   "metadata": {},
   "outputs": [],
   "source": [
    "import torch\n",
    "from torch import nn\n",
    "from torch.nn import functional as F"
   ]
  },
  {
   "cell_type": "markdown",
   "metadata": {},
   "source": [
    "So, in the example of a tensor with a shape of (1, 5, 10):\n",
    "\n",
    "Batch Size: 1 (processing one sequence at a time).\n",
    "Channels: 5 (representing information from 5 different features or sensors).\n",
    "Sequence Length: 10 (the length of each sequence)."
   ]
  },
  {
   "cell_type": "code",
   "execution_count": 14,
   "metadata": {},
   "outputs": [
    {
     "name": "stdout",
     "output_type": "stream",
     "text": [
      "torch.Size([1, 5, 10])\n",
      "torch.Size([1, 3, 8])\n"
     ]
    },
    {
     "data": {
      "text/plain": [
       "tensor([[[ 0.1165, -0.1247,  0.7358,  0.2665,  0.2823,  0.2967,  0.6395,\n",
       "           0.3150],\n",
       "         [-0.4633,  0.2421,  0.2481,  0.4852, -0.8369, -0.4127, -0.2685,\n",
       "           0.0532],\n",
       "         [ 0.7356,  0.1129,  0.3651, -0.2872, -0.5229,  0.3053, -0.2065,\n",
       "          -0.4229]]], grad_fn=<ConvolutionBackward0>)"
      ]
     },
     "execution_count": 14,
     "metadata": {},
     "output_type": "execute_result"
    }
   ],
   "source": [
    "conv = nn.Conv1d(in_channels=5,out_channels=3,kernel_size=3,stride=1)\n",
    "input = torch.randn(1, 5, 10)\n",
    "print(input.shape)\n",
    "out = conv(input)\n",
    "print(out.shape)\n",
    "out"
   ]
  },
  {
   "cell_type": "code",
   "execution_count": 18,
   "metadata": {},
   "outputs": [
    {
     "data": {
      "text/plain": [
       "torch.Size([1, 5, 10])"
      ]
     },
     "execution_count": 18,
     "metadata": {},
     "output_type": "execute_result"
    }
   ],
   "source": [
    "x = torch.randint(0, 10, size=(1, 5, 10), dtype=torch.float32)\n",
    "x.shape"
   ]
  },
  {
   "cell_type": "code",
   "execution_count": 19,
   "metadata": {},
   "outputs": [
    {
     "data": {
      "text/plain": [
       "tensor([[[7., 7., 7., 9., 0., 4., 1., 8., 0., 8.],\n",
       "         [3., 2., 4., 7., 0., 4., 9., 9., 9., 1.],\n",
       "         [1., 2., 0., 3., 5., 7., 8., 3., 7., 2.],\n",
       "         [5., 0., 6., 2., 2., 2., 2., 2., 1., 3.],\n",
       "         [7., 2., 2., 4., 9., 7., 6., 8., 2., 3.]]])"
      ]
     },
     "execution_count": 19,
     "metadata": {},
     "output_type": "execute_result"
    }
   ],
   "source": [
    "x"
   ]
  },
  {
   "cell_type": "code",
   "execution_count": null,
   "metadata": {},
   "outputs": [],
   "source": [
    "# Toy Dataset for Binary Classification\n",
    "input_size_cnn1d = 100  # Adjust the input size based on your data\n",
    "num_classes_cnn1d = 1   # Binary classification\n",
    "\n",
    "cnn1d_data = torch.randn(100, 1, input_size_cnn1d)  # Batch size of 100\n",
    "cnn1d_labels = torch.randint(0, 2, (100,)).float()"
   ]
  },
  {
   "cell_type": "markdown",
   "metadata": {},
   "source": [
    "Need to understand conv1d, 2d and 3d intutively\n",
    "\n",
    "https://www.youtube.com/playlist?list=PLQ-UNteTsc3CJ1DI974uXFkHXt8wQhXBv"
   ]
  },
  {
   "cell_type": "code",
   "execution_count": null,
   "metadata": {},
   "outputs": [],
   "source": [
    "# Convolutional network\n",
    "\n",
    "class CNN(nn.Module):\n",
    "    def __init__(self, n_channels, n_classes):\n",
    "        super(CNN, self).__init__()\n"
   ]
  },
  {
   "cell_type": "code",
   "execution_count": null,
   "metadata": {},
   "outputs": [],
   "source": []
  },
  {
   "cell_type": "code",
   "execution_count": null,
   "metadata": {},
   "outputs": [],
   "source": []
  },
  {
   "cell_type": "code",
   "execution_count": null,
   "metadata": {},
   "outputs": [],
   "source": []
  },
  {
   "cell_type": "code",
   "execution_count": null,
   "metadata": {},
   "outputs": [],
   "source": []
  }
 ],
 "metadata": {
  "kernelspec": {
   "display_name": "Python 3",
   "language": "python",
   "name": "python3"
  },
  "language_info": {
   "codemirror_mode": {
    "name": "ipython",
    "version": 3
   },
   "file_extension": ".py",
   "mimetype": "text/x-python",
   "name": "python",
   "nbconvert_exporter": "python",
   "pygments_lexer": "ipython3",
   "version": "3.11.4"
  }
 },
 "nbformat": 4,
 "nbformat_minor": 2
}
