{
 "cells": [
  {
   "cell_type": "code",
   "execution_count": 1,
   "metadata": {},
   "outputs": [],
   "source": [
    "import torch\n",
    "from torch import nn\n",
    "from torch import optim"
   ]
  },
  {
   "cell_type": "code",
   "execution_count": 3,
   "metadata": {},
   "outputs": [],
   "source": [
    "class LSTM(nn.Module):\n",
    "    def __init__(self, in_size, hid_size, num_class):\n",
    "        super(LSTM, self).__init__()\n",
    "        self.lstm = nn.LSTM(in_size, hid_size, batch_first=True)\n",
    "        self.lin = nn.Linear(hid_size, num_class)\n",
    "\n",
    "    def forward(self, x):\n",
    "        _, (h_n, _) = self.lstm(x)\n",
    "        x = self.lin(h_n.squeeze(0))\n",
    "        return x"
   ]
  },
  {
   "cell_type": "code",
   "execution_count": 4,
   "metadata": {},
   "outputs": [],
   "source": [
    "# Toy Dataset for LSTM\n",
    "input_size_lstm = 12\n",
    "hidden_size_lstm = 25\n",
    "num_classes_lstm = 3\n",
    "lstm_data = torch.randn(120, 6, input_size_lstm)\n",
    "lstm_labels = torch.randint(0, num_classes_lstm, (120,))\n",
    "\n",
    "# Instantiate the model, loss function, and optimizer\n",
    "model_lstm = LSTM(input_size_lstm, hidden_size_lstm, num_classes_lstm)\n",
    "criterion_lstm = nn.CrossEntropyLoss()\n",
    "optimizer_lstm = optim.SGD(model_lstm.parameters(), lr=0.01)\n"
   ]
  },
  {
   "cell_type": "code",
   "execution_count": 5,
   "metadata": {},
   "outputs": [
    {
     "name": "stdout",
     "output_type": "stream",
     "text": [
      "LSTM Classification Output: 0\n"
     ]
    }
   ],
   "source": [
    "# Training Loop\n",
    "for epoch in range(100):\n",
    "    # Forward pass\n",
    "    outputs = model_lstm(lstm_data)\n",
    "    loss = criterion_lstm(outputs, lstm_labels)\n",
    "\n",
    "    # Backward pass and optimization\n",
    "    optimizer_lstm.zero_grad()\n",
    "    loss.backward()\n",
    "    optimizer_lstm.step()\n",
    "\n",
    "# Evaluate the trained model\n",
    "with torch.no_grad():\n",
    "    test_data_lstm = torch.randn(1, 6, input_size_lstm)\n",
    "    predicted_output_lstm = model_lstm(test_data_lstm)\n",
    "    _, predicted_class_lstm = torch.max(predicted_output_lstm, 1)\n",
    "    print(\"LSTM Classification Output:\", predicted_class_lstm.item())"
   ]
  },
  {
   "cell_type": "code",
   "execution_count": null,
   "metadata": {},
   "outputs": [],
   "source": []
  },
  {
   "cell_type": "code",
   "execution_count": null,
   "metadata": {},
   "outputs": [],
   "source": []
  }
 ],
 "metadata": {
  "kernelspec": {
   "display_name": "Python 3",
   "language": "python",
   "name": "python3"
  },
  "language_info": {
   "codemirror_mode": {
    "name": "ipython",
    "version": 3
   },
   "file_extension": ".py",
   "mimetype": "text/x-python",
   "name": "python",
   "nbconvert_exporter": "python",
   "pygments_lexer": "ipython3",
   "version": "3.11.4"
  }
 },
 "nbformat": 4,
 "nbformat_minor": 2
}
