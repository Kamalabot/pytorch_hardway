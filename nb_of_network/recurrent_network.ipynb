{
 "cells": [
  {
   "cell_type": "code",
   "execution_count": 19,
   "metadata": {},
   "outputs": [],
   "source": [
    "import torch\n",
    "from torch import nn\n",
    "from torch.nn import functional as F\n",
    "from torch import optim"
   ]
  },
  {
   "cell_type": "code",
   "execution_count": 20,
   "metadata": {},
   "outputs": [],
   "source": [
    "class RNNModel(nn.Module):\n",
    "    def __init__(self, in_size, hidden_size, num_class):\n",
    "        super(RNNModel, self).__init__()\n",
    "        self.rnn = nn.RNN(in_size, hidden_size, batch_first=True)\n",
    "        self.lin = nn.Linear(hidden_size, num_class)\n",
    "\n",
    "    def forward(self, x):\n",
    "        _, h_n = self.rnn(x)\n",
    "        x = self.lin(h_n.squeeze(0))\n",
    "        return x\n",
    "    "
   ]
  },
  {
   "cell_type": "code",
   "execution_count": 3,
   "metadata": {},
   "outputs": [],
   "source": [
    "input_size_rnn = 10\n",
    "hidden_size_rnn = 20\n",
    "num_class = 2\n",
    "\n",
    "rnn_data = torch.randn(80, 5, input_size_rnn)\n",
    "rnn_labels = torch.randint(0, num_class, (80, ))"
   ]
  },
  {
   "cell_type": "code",
   "execution_count": 4,
   "metadata": {},
   "outputs": [
    {
     "data": {
      "text/plain": [
       "torch.Size([80, 5, 10])"
      ]
     },
     "execution_count": 4,
     "metadata": {},
     "output_type": "execute_result"
    }
   ],
   "source": [
    "rnn_data.shape"
   ]
  },
  {
   "cell_type": "code",
   "execution_count": 5,
   "metadata": {},
   "outputs": [
    {
     "data": {
      "text/plain": [
       "torch.Size([80])"
      ]
     },
     "execution_count": 5,
     "metadata": {},
     "output_type": "execute_result"
    }
   ],
   "source": [
    "rnn_labels.shape"
   ]
  },
  {
   "cell_type": "code",
   "execution_count": 7,
   "metadata": {},
   "outputs": [],
   "source": [
    "model_rnn = RNNModel(input_size_rnn,\n",
    "                     hidden_size_rnn,\n",
    "                     num_class)\n",
    "\n",
    "criteria = nn.CrossEntropyLoss()\n",
    "\n",
    "optimizer_rnn = optim.SGD(model_rnn.parameters(),\n",
    "                          lr=0.01)"
   ]
  },
  {
   "cell_type": "code",
   "execution_count": 9,
   "metadata": {},
   "outputs": [],
   "source": [
    "# Training Loop\n",
    "for epoch in range(100):\n",
    "    # Forward pass\n",
    "    outputs = model_rnn(rnn_data)\n",
    "    loss = criteria(outputs, rnn_labels)\n",
    "\n",
    "    # Backward pass and optimization\n",
    "    optimizer_rnn.zero_grad()\n",
    "    loss.backward()\n",
    "    optimizer_rnn.step()"
   ]
  },
  {
   "cell_type": "code",
   "execution_count": 11,
   "metadata": {},
   "outputs": [
    {
     "name": "stdout",
     "output_type": "stream",
     "text": [
      "RNN Classification Output: 0\n"
     ]
    }
   ],
   "source": [
    "# Evaluate the trained model\n",
    "with torch.no_grad():\n",
    "    test_data_rnn = torch.randn(1, 5, input_size_rnn)\n",
    "    predicted_output_rnn = model_rnn(test_data_rnn)\n",
    "    _, predicted_class_rnn = torch.max(predicted_output_rnn, 1)\n",
    "    print(\"RNN Classification Output:\", predicted_class_rnn.item())"
   ]
  },
  {
   "cell_type": "code",
   "execution_count": 36,
   "metadata": {},
   "outputs": [],
   "source": [
    "from torchtext.datasets import SST2, IMDB\n",
    "\n",
    "sst2_train, sst2_dev, sst2_test = SST2(split=('train', 'dev', 'test'))\n",
    "\n",
    "# We need build tokenizer, then create the indices, convert them to tensors to be fed to the model "
   ]
  },
  {
   "cell_type": "code",
   "execution_count": null,
   "metadata": {},
   "outputs": [],
   "source": [
    "model_rnn = RNNModel(input_size_rnn,\n",
    "                     hidden_size_rnn,\n",
    "                     num_class)\n",
    "\n",
    "criteria = nn.CrossEntropyLoss()\n",
    "\n",
    "optimizer_rnn = optim.SGD(model_rnn.parameters(),\n",
    "                          lr=0.01)"
   ]
  },
  {
   "cell_type": "code",
   "execution_count": null,
   "metadata": {},
   "outputs": [],
   "source": []
  },
  {
   "cell_type": "code",
   "execution_count": null,
   "metadata": {},
   "outputs": [],
   "source": []
  },
  {
   "cell_type": "code",
   "execution_count": null,
   "metadata": {},
   "outputs": [],
   "source": []
  },
  {
   "cell_type": "code",
   "execution_count": null,
   "metadata": {},
   "outputs": [],
   "source": []
  }
 ],
 "metadata": {
  "kernelspec": {
   "display_name": "Python 3",
   "language": "python",
   "name": "python3"
  },
  "language_info": {
   "codemirror_mode": {
    "name": "ipython",
    "version": 3
   },
   "file_extension": ".py",
   "mimetype": "text/x-python",
   "name": "python",
   "nbconvert_exporter": "python",
   "pygments_lexer": "ipython3",
   "version": "3.11.4"
  }
 },
 "nbformat": 4,
 "nbformat_minor": 2
}
