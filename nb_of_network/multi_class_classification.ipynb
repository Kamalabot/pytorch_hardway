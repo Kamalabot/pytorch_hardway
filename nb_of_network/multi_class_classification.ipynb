{
 "cells": [
  {
   "cell_type": "markdown",
   "metadata": {},
   "source": [
    "### This notebook deals with all things Multi Class classification. Starting with basic NN"
   ]
  },
  {
   "cell_type": "code",
   "execution_count": 1,
   "metadata": {},
   "outputs": [],
   "source": [
    "import torch\n",
    "from torch import nn\n",
    "from torch.nn import functional as F \n",
    "from torch import optim"
   ]
  },
  {
   "cell_type": "code",
   "execution_count": 9,
   "metadata": {},
   "outputs": [
    {
     "data": {
      "text/plain": [
       "tensor([[ 0.5382, -1.1093,  2.0243,  1.7545]])"
      ]
     },
     "execution_count": 9,
     "metadata": {},
     "output_type": "execute_result"
    }
   ],
   "source": [
    "n = torch.randn((1, 4))\n",
    "n"
   ]
  },
  {
   "cell_type": "code",
   "execution_count": 10,
   "metadata": {},
   "outputs": [
    {
     "name": "stdout",
     "output_type": "stream",
     "text": [
      "tensor([[0.1113, 0.0214, 0.4918, 0.3755]])\n"
     ]
    },
    {
     "data": {
      "text/plain": [
       "tensor(2)"
      ]
     },
     "execution_count": 10,
     "metadata": {},
     "output_type": "execute_result"
    }
   ],
   "source": [
    "smax = nn.Softmax(dim=1)  # the function exists between 0 to 1 like probability, so we use it\n",
    "print(smax(n))\n",
    "smax(n).argmax()  # use argmax to get the index of max numbers"
   ]
  },
  {
   "cell_type": "code",
   "execution_count": 70,
   "metadata": {},
   "outputs": [],
   "source": [
    "# Defining a simple NN model\n",
    "\n",
    "class MulClassify(nn.Module):\n",
    "    def __init__(self, in_features, out_features, hidden_features):\n",
    "        super(MulClassify, self).__init__()\n",
    "        self.lin1 = nn.Linear(in_features, hidden_features)  # first layer connected to hidden\n",
    "        self.relu = nn.ReLU()\n",
    "        self.lin2 = nn.Linear(hidden_features, out_features)  # hidden to out features\n",
    "        # self.soft = nn.Softmax(dim=1)  # Find max in columns \n",
    "\n",
    "    def forward(self, x):\n",
    "        x = self.lin1(x)\n",
    "        # print(x)\n",
    "        x = self.relu(x)\n",
    "        # print(x)\n",
    "        x = self.lin2(x)\n",
    "        # print(x)\n",
    "        return x\n",
    "    \n",
    "mulklassify = MulClassify(6, 3, 10)"
   ]
  },
  {
   "cell_type": "code",
   "execution_count": 73,
   "metadata": {},
   "outputs": [],
   "source": [
    "input_features = 6\n",
    "num_class = 3\n",
    "\n",
    "mulclass_x = torch.randn(100, input_features, dtype=torch.float32)\n",
    "mulclass_y = torch.randint(0, input_features,(100, 1), dtype=torch.float32)"
   ]
  },
  {
   "cell_type": "code",
   "execution_count": 74,
   "metadata": {},
   "outputs": [
    {
     "data": {
      "text/plain": [
       "'torch.FloatTensor'"
      ]
     },
     "execution_count": 74,
     "metadata": {},
     "output_type": "execute_result"
    }
   ],
   "source": [
    "mulclass_y.type()"
   ]
  },
  {
   "cell_type": "code",
   "execution_count": 58,
   "metadata": {},
   "outputs": [
    {
     "data": {
      "text/plain": [
       "tensor([[2.],\n",
       "        [1.],\n",
       "        [1.],\n",
       "        [0.],\n",
       "        [3.]])"
      ]
     },
     "execution_count": 58,
     "metadata": {},
     "output_type": "execute_result"
    }
   ],
   "source": [
    "mulclass_y[0:5]"
   ]
  },
  {
   "cell_type": "code",
   "execution_count": 75,
   "metadata": {},
   "outputs": [],
   "source": [
    "from torch.utils.data import DataLoader, Dataset\n",
    "import numpy as np\n",
    "\n",
    "class Mulcset(Dataset):\n",
    "    def __init__(self, x, y):\n",
    "        self.x = x\n",
    "        self.y = y\n",
    "        self.samples = self.x.shape[0]\n",
    "\n",
    "    def __getitem__(self, index):\n",
    "        return self.x[index], self.y[index]\n",
    "\n",
    "    def __len__(self):\n",
    "        return self.samples"
   ]
  },
  {
   "cell_type": "code",
   "execution_count": 76,
   "metadata": {},
   "outputs": [
    {
     "data": {
      "text/plain": [
       "(tensor([ 0.0858, -0.4547, -0.0512, -0.3322,  0.3472, -0.4475]), tensor([0.]))"
      ]
     },
     "execution_count": 76,
     "metadata": {},
     "output_type": "execute_result"
    }
   ],
   "source": [
    "mulc_set = Mulcset(x=mulclass_x,\n",
    "                   y=mulclass_y)\n",
    "mulc_set[1]"
   ]
  },
  {
   "cell_type": "code",
   "execution_count": 77,
   "metadata": {},
   "outputs": [
    {
     "data": {
      "text/plain": [
       "[tensor([[-0.2776, -1.9314,  0.0392, -1.0306,  1.2299, -0.8924],\n",
       "         [ 0.0858, -0.4547, -0.0512, -0.3322,  0.3472, -0.4475],\n",
       "         [ 0.4138, -1.6741, -1.4273, -1.1846,  1.0657, -1.1606]]),\n",
       " tensor([[3.],\n",
       "         [0.],\n",
       "         [1.]])]"
      ]
     },
     "execution_count": 77,
     "metadata": {},
     "output_type": "execute_result"
    }
   ],
   "source": [
    "mulc_loader = DataLoader(mulc_set, 3)\n",
    "iter_clas = iter(mulc_loader)\n",
    "next(iter_clas)"
   ]
  },
  {
   "cell_type": "code",
   "execution_count": 78,
   "metadata": {},
   "outputs": [
    {
     "data": {
      "text/plain": [
       "tensor([[0.0405, 0.4152, 0.0515],\n",
       "        [0.2051, 0.4341, 0.0258],\n",
       "        [0.1530, 0.2929, 0.0247]], grad_fn=<AddmmBackward0>)"
      ]
     },
     "execution_count": 78,
     "metadata": {},
     "output_type": "execute_result"
    }
   ],
   "source": [
    "mulklassify(next(iter_clas)[0])"
   ]
  },
  {
   "cell_type": "code",
   "execution_count": 63,
   "metadata": {},
   "outputs": [
    {
     "name": "stdout",
     "output_type": "stream",
     "text": [
      "torch.Size([3, 3])\n"
     ]
    },
    {
     "data": {
      "text/plain": [
       "tensor([2, 1, 2])"
      ]
     },
     "execution_count": 63,
     "metadata": {},
     "output_type": "execute_result"
    }
   ],
   "source": [
    "out = mulklassify(next(iter_clas)[0])\n",
    "print(out.shape)\n",
    "out.argmax(dim=1)"
   ]
  },
  {
   "cell_type": "code",
   "execution_count": 71,
   "metadata": {},
   "outputs": [
    {
     "name": "stdout",
     "output_type": "stream",
     "text": [
      "Pred is:  tensor([1, 1, 1])\n",
      "Actual is: tensor([[0.],\n",
      "        [1.],\n",
      "        [3.]])\n"
     ]
    }
   ],
   "source": [
    "pred = mulklassify(next(iter_clas)[0])\n",
    "print(\"Pred is: \", pred.argmax(dim=1))\n",
    "print(\"Actual is:\", next(iter_clas)[1])"
   ]
  },
  {
   "cell_type": "code",
   "execution_count": null,
   "metadata": {},
   "outputs": [],
   "source": [
    "fn = nn.CrossEntropyLoss()\n",
    "pred = mulklassify(next(iter_clas)[0])\n",
    "# pred = pred.reshape(1, -1)\n",
    "# pred = pred.argmax(dim=1)\n",
    "print(pred)\n",
    "# x = next(iter_clas)[1].squeeze()\n",
    "# print(x)\n",
    "loss = fn(pred, next(iter_clas)[1])\n",
    "loss"
   ]
  },
  {
   "cell_type": "code",
   "execution_count": 83,
   "metadata": {},
   "outputs": [],
   "source": [
    "# criterion = nn.CrossEntropyLoss()\n",
    "fn = nn.CrossEntropyLoss()  # Binary Cross entropy had to be used.\n",
    "optimiser = optim.SGD(params=mulklassify.parameters(), lr=0.01)"
   ]
  },
  {
   "cell_type": "code",
   "execution_count": null,
   "metadata": {},
   "outputs": [],
   "source": [
    "# 100 pass through the full data using dataloader\n",
    "for ep in range(100):\n",
    "    for ind, batch in enumerate(mulc_loader):\n",
    "        # print(batch[0].shape)  # torch.size([3, 4])\n",
    "        pred_batch  = mulklassify(batch[0])\n",
    "        loss_cr = fn(pred_batch, batch[1])\n",
    "        # print(loss_cr.item())\n",
    "        loss_cr.backward()  # backward pass happens with ease, even though there are multiple elements\n",
    "        optimiser.step()\n",
    "        optimiser.zero_grad()\n",
    "    if ep % 5 == 0:\n",
    "        print(f\"Epoch is {ep} and loss is: {loss_cr.item():.2f}\")"
   ]
  },
  {
   "cell_type": "code",
   "execution_count": 23,
   "metadata": {},
   "outputs": [
    {
     "name": "stdout",
     "output_type": "stream",
     "text": [
      "tensor([0.0012])\n",
      "compared to:  tensor([0.])\n"
     ]
    }
   ],
   "source": [
    "with torch.no_grad():\n",
    "    test_pred = mulklassify([10][0])\n",
    "    print(test_pred)\n",
    "    print(\"compared to: \", mulc_set[10][1])"
   ]
  }
 ],
 "metadata": {
  "kernelspec": {
   "display_name": "Python 3",
   "language": "python",
   "name": "python3"
  },
  "language_info": {
   "codemirror_mode": {
    "name": "ipython",
    "version": 3
   },
   "file_extension": ".py",
   "mimetype": "text/x-python",
   "name": "python",
   "nbconvert_exporter": "python",
   "pygments_lexer": "ipython3",
   "version": "3.11.4"
  }
 },
 "nbformat": 4,
 "nbformat_minor": 2
}
