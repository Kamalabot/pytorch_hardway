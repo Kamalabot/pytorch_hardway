{
 "cells": [
  {
   "cell_type": "code",
   "execution_count": 18,
   "metadata": {},
   "outputs": [],
   "source": [
    "from torchdata import datapipes as dp\n",
    "from torchtext import datasets\n",
    "import spacy\n",
    "from torchtext.vocab import build_vocab_from_iterator\n",
    "import warnings\n",
    "warnings.filterwarnings(\"ignore\")\n",
    "\n",
    "eng = spacy.load(\"en_core_web_md\")\n",
    "tokeniser = eng.tokenizer"
   ]
  },
  {
   "cell_type": "code",
   "execution_count": 2,
   "metadata": {},
   "outputs": [],
   "source": [
    "from torchtext import transforms as T \n",
    "from torchtext.datasets import SQuAD2"
   ]
  },
  {
   "cell_type": "code",
   "execution_count": 5,
   "metadata": {},
   "outputs": [
    {
     "data": {
      "text/plain": [
       "('The Normans (Norman: Nourmands; French: Normands; Latin: Normanni) were the people who in the 10th and 11th centuries gave their name to Normandy, a region in France. They were descended from Norse (\"Norman\" comes from \"Norseman\") raiders and pirates from Denmark, Iceland and Norway who, under their leader Rollo, agreed to swear fealty to King Charles III of West Francia. Through generations of assimilation and mixing with the native Frankish and Roman-Gaulish populations, their descendants would gradually merge with the Carolingian-based cultures of West Francia. The distinct cultural and ethnic identity of the Normans emerged initially in the first half of the 10th century, and it continued to evolve over the succeeding centuries.',\n",
       " 'In what country is Normandy located?',\n",
       " ['France', 'France', 'France', 'France'],\n",
       " [159, 159, 159, 159])"
      ]
     },
     "execution_count": 5,
     "metadata": {},
     "output_type": "execute_result"
    }
   ],
   "source": [
    "sq_pipe = SQuAD2(split='dev')\n",
    "test_data = list(sq_pipe)[0]\n",
    "test_data"
   ]
  },
  {
   "cell_type": "code",
   "execution_count": null,
   "metadata": {},
   "outputs": [],
   "source": [
    "# we have tokenise all parts of the datapoint, and then seperate them for training\n",
    "[x.text for x in eng.tokenizer(test_data[0])]"
   ]
  },
  {
   "cell_type": "code",
   "execution_count": 26,
   "metadata": {},
   "outputs": [
    {
     "data": {
      "text/plain": [
       "['In', 'what', 'country', 'is', 'Normandy', 'located', '?']"
      ]
     },
     "execution_count": 26,
     "metadata": {},
     "output_type": "execute_result"
    }
   ],
   "source": [
    "def tokenize(text, ind):\n",
    "    return [token.text for token in eng.tokenizer(text[ind])]\n",
    "\n",
    "tokenize(test_data, 1)"
   ]
  },
  {
   "cell_type": "code",
   "execution_count": 42,
   "metadata": {},
   "outputs": [],
   "source": [
    "def tokenize_sent(text):\n",
    "    return [token.text for token in eng.tokenizer(text)]"
   ]
  },
  {
   "cell_type": "code",
   "execution_count": null,
   "metadata": {},
   "outputs": [],
   "source": [
    "sq_pipe = sq_pipe.map(tokenize)"
   ]
  },
  {
   "cell_type": "code",
   "execution_count": 14,
   "metadata": {},
   "outputs": [],
   "source": [
    "def getToken(pipe, place):\n",
    "    for para, quest, answer, loc in pipe:\n",
    "        if place == 0:\n",
    "            yield tokenize(para)\n",
    "        elif place == 1:\n",
    "            yield tokenize(quest)"
   ]
  },
  {
   "cell_type": "code",
   "execution_count": 16,
   "metadata": {},
   "outputs": [
    {
     "name": "stdout",
     "output_type": "stream",
     "text": [
      "['The', 'Normans', '(', 'Norman', ':', 'Nourmands', ';', 'French', ':', 'Normands', ';', 'Latin', ':', 'Normanni', ')', 'were', 'the', 'people', 'who', 'in', 'the', '10th', 'and', '11th', 'centuries', 'gave', 'their', 'name', 'to', 'Normandy', ',', 'a', 'region', 'in', 'France', '.', 'They', 'were', 'descended', 'from', 'Norse', '(', '\"', 'Norman', '\"', 'comes', 'from', '\"', 'Norseman', '\"', ')', 'raiders', 'and', 'pirates', 'from', 'Denmark', ',', 'Iceland', 'and', 'Norway', 'who', ',', 'under', 'their', 'leader', 'Rollo', ',', 'agreed', 'to', 'swear', 'fealty', 'to', 'King', 'Charles', 'III', 'of', 'West', 'Francia', '.', 'Through', 'generations', 'of', 'assimilation', 'and', 'mixing', 'with', 'the', 'native', 'Frankish', 'and', 'Roman', '-', 'Gaulish', 'populations', ',', 'their', 'descendants', 'would', 'gradually', 'merge', 'with', 'the', 'Carolingian', '-', 'based', 'cultures', 'of', 'West', 'Francia', '.', 'The', 'distinct', 'cultural', 'and', 'ethnic', 'identity', 'of', 'the', 'Normans', 'emerged', 'initially', 'in', 'the', 'first', 'half', 'of', 'the', '10th', 'century', ',', 'and', 'it', 'continued', 'to', 'evolve', 'over', 'the', 'succeeding', 'centuries', '.']\n"
     ]
    }
   ],
   "source": [
    "for token in getToken(sq_pipe, 0):\n",
    "    print(token)\n",
    "    break"
   ]
  },
  {
   "cell_type": "code",
   "execution_count": 19,
   "metadata": {},
   "outputs": [
    {
     "name": "stdout",
     "output_type": "stream",
     "text": [
      "['In', 'what', 'country', 'is', 'Normandy', 'located', '?']\n"
     ]
    }
   ],
   "source": [
    "for token in getToken(sq_pipe, 1):\n",
    "    print(token)\n",
    "    break"
   ]
  },
  {
   "cell_type": "code",
   "execution_count": 21,
   "metadata": {},
   "outputs": [],
   "source": [
    "storyvocab = build_vocab_from_iterator(\n",
    "    getToken(sq_pipe, 0),\n",
    "    min_freq=2,\n",
    "    specials=['<pad>', '<sos>', '<eos>', '<unk>'],\n",
    "    special_first=True\n",
    ")\n",
    "storyvocab.set_default_index(storyvocab['<unk>'])"
   ]
  },
  {
   "cell_type": "code",
   "execution_count": 22,
   "metadata": {},
   "outputs": [],
   "source": [
    "questvocab = build_vocab_from_iterator(\n",
    "    getToken(sq_pipe, 1),\n",
    "    special_first=True,\n",
    "    specials=['<pad>', '<sos>', '<eos>', '<unk>'],\n",
    "    min_freq=2\n",
    ")\n",
    "questvocab.set_default_index(questvocab['<unk>'])"
   ]
  },
  {
   "cell_type": "code",
   "execution_count": 84,
   "metadata": {},
   "outputs": [],
   "source": [
    "story_transform = T.Sequential(\n",
    "    T.VocabTransform(storyvocab),\n",
    "    T.AddToken(1, begin=True),\n",
    "    T.AddToken(2, begin=False),\n",
    ")"
   ]
  },
  {
   "cell_type": "code",
   "execution_count": 81,
   "metadata": {},
   "outputs": [],
   "source": [
    "quest_transform = T.Sequential(\n",
    "    T.VocabTransform(questvocab),\n",
    "    T.AddToken(1, begin=True),\n",
    "    T.AddToken(2, begin=False),\n",
    ")"
   ]
  },
  {
   "cell_type": "code",
   "execution_count": 82,
   "metadata": {},
   "outputs": [],
   "source": [
    "def do_transform(row):\n",
    "    # print(row)\n",
    "    return [story_transform(tokenize_sent(row[0])),\n",
    "            quest_transform(tokenize_sent(row[1]))] "
   ]
  },
  {
   "cell_type": "code",
   "execution_count": null,
   "metadata": {},
   "outputs": [],
   "source": [
    "do_transform(test_data)"
   ]
  },
  {
   "cell_type": "code",
   "execution_count": null,
   "metadata": {},
   "outputs": [],
   "source": [
    "morph_pipe = sq_pipe.map(do_transform)\n",
    "morplist = list(morph_pipe)\n",
    "morplist[0]"
   ]
  },
  {
   "cell_type": "code",
   "execution_count": 86,
   "metadata": {},
   "outputs": [
    {
     "name": "stdout",
     "output_type": "stream",
     "text": [
      "<sos> The Normans ( Norman : Nourmands ; French : Normands ; Latin : Normanni ) were the people who in the 10th and 11th centuries gave their name to Normandy , a region in France . They were descended from Norse ( \" Norman \" comes from \" Norseman \" ) raiders and pirates from Denmark , Iceland and Norway who , under their leader Rollo , agreed to swear fealty to King Charles III of West Francia . Through generations of assimilation and mixing with the native Frankish and Roman - Gaulish populations , their descendants would gradually merge with the Carolingian - based cultures of West Francia . The distinct cultural and ethnic identity of the Normans emerged initially in the first half of the 10th century , and it continued to evolve over the succeeding centuries . <eos>\n",
      "<sos> In what country is Normandy located ? <eos>\n",
      "<sos> The Normans ( Norman : Nourmands ; French : Normands ; Latin : Normanni ) were the people who in the 10th and 11th centuries gave their name to Normandy , a region in France . They were descended from Norse ( \" Norman \" comes from \" Norseman \" ) raiders and pirates from Denmark , Iceland and Norway who , under their leader Rollo , agreed to swear fealty to King Charles III of West Francia . Through generations of assimilation and mixing with the native Frankish and Roman - Gaulish populations , their descendants would gradually merge with the Carolingian - based cultures of West Francia . The distinct cultural and ethnic identity of the Normans emerged initially in the first half of the 10th century , and it continued to evolve over the succeeding centuries . <eos>\n",
      "<sos> When were the Normans in Normandy ? <eos>\n"
     ]
    }
   ],
   "source": [
    "story_idex_list = storyvocab.get_itos()\n",
    "quest_idex_list = questvocab.get_itos()\n",
    "\n",
    "def show_sentence_back(tokens):\n",
    "    pass\n",
    "\n",
    "for mo in morplist[:2]:\n",
    "    print(' '.join([story_idex_list[ind] for ind in mo[0]]), end='\\n')\n",
    "    print(' '.join([quest_idex_list[ind] for ind in mo[1]]), end='\\n')"
   ]
  },
  {
   "cell_type": "code",
   "execution_count": 87,
   "metadata": {},
   "outputs": [
    {
     "data": {
      "text/plain": [
       "7038"
      ]
     },
     "execution_count": 87,
     "metadata": {},
     "output_type": "execute_result"
    }
   ],
   "source": [
    "quest_idex_list  # contains the words that are present in questions\n",
    "len(quest_idex_list)"
   ]
  },
  {
   "cell_type": "code",
   "execution_count": 88,
   "metadata": {},
   "outputs": [],
   "source": [
    "# After the tokens are successfully extracted, we can start embedding\n",
    "n_story = len(story_idex_list)\n",
    "n_quest = len(quest_idex_list)\n",
    "emb_dim = 64\n",
    "\n",
    "import torch\n",
    "from torch import nn\n",
    "\n",
    "story_embed = nn.Embedding(n_story, emb_dim)\n",
    "quest_embed = nn.Embedding(n_quest, emb_dim)"
   ]
  },
  {
   "cell_type": "code",
   "execution_count": 71,
   "metadata": {},
   "outputs": [
    {
     "data": {
      "text/plain": [
       "torch.Size([148, 64])"
      ]
     },
     "execution_count": 71,
     "metadata": {},
     "output_type": "execute_result"
    }
   ],
   "source": [
    "emb_story_1 = story_embed(torch.tensor(morplist[58][0]))\n",
    "emb_story_1.shape"
   ]
  },
  {
   "cell_type": "code",
   "execution_count": 75,
   "metadata": {},
   "outputs": [
    {
     "name": "stdout",
     "output_type": "stream",
     "text": [
      "Embedding(19154, 64)\n",
      "Embedding(7038, 64)\n"
     ]
    }
   ],
   "source": [
    "print(story_embed)\n",
    "print(quest_embed)"
   ]
  },
  {
   "cell_type": "code",
   "execution_count": 77,
   "metadata": {},
   "outputs": [
    {
     "data": {
      "text/plain": [
       "[1, 3785, 246, 10168, 659, 4, 7152, 1509, 2]"
      ]
     },
     "execution_count": 77,
     "metadata": {},
     "output_type": "execute_result"
    }
   ],
   "source": [
    "morplist[58][1]"
   ]
  },
  {
   "cell_type": "code",
   "execution_count": 89,
   "metadata": {},
   "outputs": [
    {
     "data": {
      "text/plain": [
       "torch.Size([9, 64])"
      ]
     },
     "execution_count": 89,
     "metadata": {},
     "output_type": "execute_result"
    }
   ],
   "source": [
    "quest_1 = quest_embed(torch.tensor(morplist[58][1]))\n",
    "quest_1.shape"
   ]
  },
  {
   "cell_type": "code",
   "execution_count": null,
   "metadata": {},
   "outputs": [],
   "source": []
  },
  {
   "cell_type": "code",
   "execution_count": null,
   "metadata": {},
   "outputs": [],
   "source": []
  },
  {
   "cell_type": "code",
   "execution_count": null,
   "metadata": {},
   "outputs": [],
   "source": []
  }
 ],
 "metadata": {
  "kernelspec": {
   "display_name": "Python 3",
   "language": "python",
   "name": "python3"
  },
  "language_info": {
   "codemirror_mode": {
    "name": "ipython",
    "version": 3
   },
   "file_extension": ".py",
   "mimetype": "text/x-python",
   "name": "python",
   "nbconvert_exporter": "python",
   "pygments_lexer": "ipython3",
   "version": "3.11.4"
  }
 },
 "nbformat": 4,
 "nbformat_minor": 2
}
