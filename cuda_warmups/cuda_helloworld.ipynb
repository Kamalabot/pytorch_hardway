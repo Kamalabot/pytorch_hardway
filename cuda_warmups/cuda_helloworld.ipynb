{
  "cells": [
    {
      "cell_type": "code",
      "execution_count": 1,
      "metadata": {
        "id": "BtS9drh9hVKg"
      },
      "outputs": [],
      "source": [
        "!pip install torch Ninja > /dev/null"
      ]
    },
    {
      "cell_type": "code",
      "execution_count": 1,
      "metadata": {
        "id": "Zbs79VV9lqmd"
      },
      "outputs": [],
      "source": [
        "import torch\n",
        "from torch.utils.cpp_extension import load_inline"
      ]
    },
    {
      "cell_type": "code",
      "execution_count": 2,
      "metadata": {
        "id": "8NY4P_oxheDL"
      },
      "outputs": [],
      "source": [
        "cpp_source = \"\"\"\n",
        "std::string hello_world() {\n",
        "  return \"hello world !\";\n",
        "}\"\"\""
      ]
    },
    {
      "cell_type": "markdown",
      "metadata": {
        "id": "jVDb2mrXih6b"
      },
      "source": [
        " Errors:\n",
        "\n",
        " - the build_directory has to exist is readable path\n",
        "    - Created a directory specifically\n",
        "    \n",
        " - Ninja is required to load C++ extensions\n",
        "    - Resolved using pip install Ninja"
      ]
    },
    {
      "cell_type": "code",
      "execution_count": 3,
      "metadata": {
        "colab": {
          "base_uri": "https://localhost:8080/"
        },
        "id": "tRcxxVeVhewg",
        "outputId": "1d6e8157-137e-40e0-87db-03c322a1d6c1"
      },
      "outputs": [
        {
          "name": "stderr",
          "output_type": "stream",
          "text": [
            "Emitting ninja build file /home/aicoder/tmp/build.ninja...\n",
            "Building extension module hello_module...\n",
            "Allowing ninja to set a default number of workers... (overridable by setting the environment variable MAX_JOBS=N)\n"
          ]
        },
        {
          "name": "stdout",
          "output_type": "stream",
          "text": [
            "ninja: warning: build log version is too old; starting over\n",
            "[1/2] c++ -MMD -MF main.o.d -DTORCH_EXTENSION_NAME=hello_module -DTORCH_API_INCLUDE_EXTENSION_H -DPYBIND11_COMPILER_TYPE=\\\"_gcc\\\" -DPYBIND11_STDLIB=\\\"_libstdcpp\\\" -DPYBIND11_BUILD_ABI=\\\"_cxxabi1011\\\" -isystem /home/aicoder/anaconda3/envs/cudacoder/lib/python3.11/site-packages/torch/include -isystem /home/aicoder/anaconda3/envs/cudacoder/lib/python3.11/site-packages/torch/include/torch/csrc/api/include -isystem /home/aicoder/anaconda3/envs/cudacoder/lib/python3.11/site-packages/torch/include/TH -isystem /home/aicoder/anaconda3/envs/cudacoder/lib/python3.11/site-packages/torch/include/THC -isystem /home/aicoder/anaconda3/envs/cudacoder/include/python3.11 -D_GLIBCXX_USE_CXX11_ABI=0 -fPIC -std=c++17 -c /home/aicoder/tmp/main.cpp -o main.o \n",
            "[2/2] c++ main.o -shared -L/home/aicoder/anaconda3/envs/cudacoder/lib/python3.11/site-packages/torch/lib -lc10 -ltorch_cpu -ltorch -ltorch_python -o hello_module.so\n"
          ]
        },
        {
          "name": "stderr",
          "output_type": "stream",
          "text": [
            "Loading extension module hello_module...\n"
          ]
        }
      ],
      "source": [
        "hello_module = load_inline(\n",
        "    name='hello_module',\n",
        "    cpp_sources=[cpp_source],\n",
        "    functions=['hello_world'],\n",
        "    verbose=True,\n",
        "    build_directory='/home/aicoder/tmp'  # this directory has to exist\n",
        ")"
      ]
    },
    {
      "cell_type": "code",
      "execution_count": 4,
      "metadata": {
        "colab": {
          "base_uri": "https://localhost:8080/",
          "height": 35
        },
        "id": "W3s4VUFkhe0q",
        "outputId": "92246adc-7b0b-48eb-e192-55a0a030cd9b"
      },
      "outputs": [
        {
          "data": {
            "text/plain": [
              "'hello world !'"
            ]
          },
          "execution_count": 4,
          "metadata": {},
          "output_type": "execute_result"
        }
      ],
      "source": [
        "hello_module.hello_world()"
      ]
    },
    {
      "cell_type": "markdown",
      "metadata": {
        "id": "URC5QCRdjgXF"
      },
      "source": [
        "Building a Square Matrix Kernel"
      ]
    },
    {
      "cell_type": "code",
      "execution_count": 2,
      "metadata": {
        "id": "_yj_3TvkjH6w"
      },
      "outputs": [],
      "source": [
        "cuda_cpp_kernel = \"\"\"\n",
        "/*Here the kernel is defined where the work is being done*/\n",
        "__global__ void square_matrix_kernel(const float* matrix, float* result, int width, int height){\n",
        "    int row = blockIdx.y * blockDim.y + threadIdx.y;\n",
        "    int col = blockIdx.x * blockDim.x + threadIdx.x;\n",
        "\n",
        "    if (row < height && col < width){\n",
        "      int idx = row * width + col;\n",
        "      result[idx] = matrix[idx] * matrix[idx];\n",
        "    }\n",
        "}\n",
        "\n",
        "/*Here a function is defined, that seems to return torch::Tensor obj*/\n",
        "torch::Tensor square_matrix(torch::Tensor matrix){\n",
        "  const auto height = matrix.size(0);\n",
        "  const auto width = matrix.size(1);\n",
        "\n",
        "  auto result = torch:empty_like(matrix);\n",
        "\n",
        "  /*wht is dim3: https://stackoverflow.com/questions/31141541/cuda-block-grid-dimensions-when-to-use-dim3 */\n",
        "\n",
        "  dim3 threads_per_block(16, 16);\n",
        "  dim3 number_of_blocks((width + threads_per_block.x - 1) / threads_per_block.x,\n",
        "                        (height + threads_per_block.y - 1) / threads_per_block.y);\n",
        "  /*The kernel is being called below has been defined above */\n",
        "  square_matrix_kernel<<<number_of_blocks, threads_per_block>>>(\n",
        "    matrix.data_ptr<float>(), result.data_ptr<float>(), width, height\n",
        "  );\n",
        "\n",
        "  return result;\n",
        "}\"\"\""
      ]
    },
    {
      "cell_type": "code",
      "execution_count": 3,
      "metadata": {
        "id": "RSQMdvq9he4x"
      },
      "outputs": [],
      "source": [
        "cpp_source = \"torch::Tensor square_matrix(torch::Tensor matrix);\""
      ]
    },
    {
      "cell_type": "markdown",
      "metadata": {
        "id": "wxOyoXY4qcrS"
      },
      "source": [
        "Error: cannot open shared object file when using load_inline()\n",
        "\n",
        "Your library is a dynamic library. You need to tell the operating system where it can locate it at runtime.\n",
        "\n",
        "To do so, we will need to do those easy steps:\n",
        "\n",
        "Find where the library is placed if you don't know it.\n",
        "\n",
        "sudo find / -name the_name_of_the_file.so\n",
        "\n",
        "Check for the existence of the dynamic library path environment variable(LD_LIBRARY_PATH)\n",
        "\n",
        "echo $LD_LIBRARY_PATH\n",
        "\n",
        "If there is nothing to be displayed, add a default path value (or not if you wish to)\n",
        "\n",
        "LD_LIBRARY_PATH=/usr/local/lib\n",
        "\n",
        "We add the desired path, export it and try the application.\n",
        "\n",
        "Note that the path should be the directory where the path.so.something is. So if path.so.something is in /my_library/path.so.something, it should be:\n",
        "\n",
        "export LD_LIBRARY_PATH=$LD_LIBRARY_PATH:/my_library/\n",
        "\n",
        "- Run sudo ldconfig\n",
        "\n",
        "ldconfig creates the necessary links and cache to the most recent shared libraries found in the directories specified on the command line, in the file /etc/ld.so.conf, and in the trusted directories (/lib and /usr/lib).\n",
        "\n",
        "- Running sudo ldconfig lead to following\n",
        "\n",
        " /usr/local/lib/libtbbbind.so.3 is not a symbolic link on many other files\n",
        "\n",
        "-- Solution:\n",
        "\n",
        "  Simply change the extension name\n",
        "\n",
        "Error: CUDA_HOME environment variable is not set."
      ]
    },
    {
      "cell_type": "code",
      "execution_count": 6,
      "metadata": {
        "colab": {
          "base_uri": "https://localhost:8080/"
        },
        "id": "YZifhuwLq07g",
        "outputId": "582ecc0d-9cfd-4d8c-8f7b-da50ca2f6726"
      },
      "outputs": [
        {
          "name": "stdout",
          "output_type": "stream",
          "text": [
            "/bin/bash: /home/aicoder/anaconda3/envs/cudacoder/lib/libtinfo.so.6: no version information available (required by /bin/bash)\n",
            ":/home/aicoder/anaconda3/envs/cudacoder/lib/\n"
          ]
        }
      ],
      "source": [
        "!echo $LD_LIBRARY_PATH"
      ]
    },
    {
      "cell_type": "code",
      "execution_count": 7,
      "metadata": {
        "id": "2MvZZsL_rGkh"
      },
      "outputs": [
        {
          "name": "stdout",
          "output_type": "stream",
          "text": [
            "/bin/bash: /home/aicoder/anaconda3/envs/cudacoder/lib/libtinfo.so.6: no version information available (required by /bin/bash)\n",
            "[sudo] password for aicoder: \n"
          ]
        }
      ],
      "source": [
        "!sudo ldconfig"
      ]
    },
    {
      "cell_type": "code",
      "execution_count": 4,
      "metadata": {},
      "outputs": [],
      "source": [
        "device = torch.device('cuda')"
      ]
    },
    {
      "cell_type": "code",
      "execution_count": null,
      "metadata": {
        "id": "gZWV1gONhe9C"
      },
      "outputs": [],
      "source": [
        "sqr_mat_ext = load_inline(\n",
        "    name='sqr_mat_ext1',\n",
        "    cpp_sources=[cpp_source],\n",
        "    cuda_sources=cuda_cpp_kernel,\n",
        "    functions=['square_matrix'],\n",
        "    with_cuda=True,\n",
        "    extra_cuda_cflags=[\"-O2\"],\n",
        "    verbose=True,\n",
        "    build_directory='/home/aicoder/sqr_mat_ext',\n",
        "    # extra_cuda_cflags=['--expt-relaxed-constexpr']\n",
        ")"
      ]
    },
    {
      "cell_type": "code",
      "execution_count": 5,
      "metadata": {},
      "outputs": [
        {
          "data": {
            "text/plain": [
              "True"
            ]
          },
          "execution_count": 5,
          "metadata": {},
          "output_type": "execute_result"
        }
      ],
      "source": [
        "torch.cuda.is_available()"
      ]
    },
    {
      "cell_type": "code",
      "execution_count": 14,
      "metadata": {},
      "outputs": [
        {
          "data": {
            "text/plain": [
              "<module 'torch.cuda.nccl' from '/home/aicoder/aimachine/lib/python3.10/site-packages/torch/cuda/nccl.py'>"
            ]
          },
          "execution_count": 14,
          "metadata": {},
          "output_type": "execute_result"
        }
      ],
      "source": [
        "\n",
        "# cuda related python files are /home/aicoder/aimachine/lib/python3.10/site-packages/torch/cuda"
      ]
    },
    {
      "cell_type": "code",
      "execution_count": 8,
      "metadata": {
        "id": "I7Pj24eiolEk"
      },
      "outputs": [],
      "source": [
        "# Another cuda kernel\n",
        "\n",
        "cuda_kernel = \"\"\"\n",
        "extern \"C\" __global__\n",
        "void square_kernel(const float* __restrict__ input, float* __restrict__ output, int size){\n",
        "  const int index = blockIdx.x * blockDim.x + threadIdx.x;\n",
        "  if (index < size) {\n",
        "    output[index] = input[index] * input[index];\n",
        "  }\n",
        "}\"\"\""
      ]
    },
    {
      "cell_type": "code",
      "execution_count": 6,
      "metadata": {
        "id": "GLCnvZrqvjt0"
      },
      "outputs": [],
      "source": [
        "device = torch.device('cuda')"
      ]
    },
    {
      "cell_type": "code",
      "execution_count": 9,
      "metadata": {
        "colab": {
          "base_uri": "https://localhost:8080/",
          "height": 1000
        },
        "id": "Lm2GP37WvsS4",
        "outputId": "ed10ae6c-5083-4bd5-9bab-e9e1ffa58577"
      },
      "outputs": [
        {
          "name": "stderr",
          "output_type": "stream",
          "text": [
            "Using /root/.cache/torch_extensions/py310_cu121 as PyTorch extensions root...\n",
            "The input conditions for extension module square have changed. Bumping to version 1 and re-building as square_v1...\n",
            "Detected CUDA files, patching ldflags\n",
            "Emitting ninja build file /root/.cache/torch_extensions/py310_cu121/square/build.ninja...\n",
            "Building extension module square_v1...\n",
            "Allowing ninja to set a default number of workers... (overridable by setting the environment variable MAX_JOBS=N)\n"
          ]
        },
        {
          "ename": "RuntimeError",
          "evalue": "Error building extension 'square_v1'",
          "output_type": "error",
          "traceback": [
            "\u001b[0;31m---------------------------------------------------------------------------\u001b[0m",
            "\u001b[0;31mCalledProcessError\u001b[0m                        Traceback (most recent call last)",
            "\u001b[0;32m/usr/local/lib/python3.10/dist-packages/torch/utils/cpp_extension.py\u001b[0m in \u001b[0;36m_run_ninja_build\u001b[0;34m(build_directory, verbose, error_prefix)\u001b[0m\n\u001b[1;32m   2095\u001b[0m         \u001b[0mstdout_fileno\u001b[0m \u001b[0;34m=\u001b[0m \u001b[0;36m1\u001b[0m\u001b[0;34m\u001b[0m\u001b[0;34m\u001b[0m\u001b[0m\n\u001b[0;32m-> 2096\u001b[0;31m         subprocess.run(\n\u001b[0m\u001b[1;32m   2097\u001b[0m             \u001b[0mcommand\u001b[0m\u001b[0;34m,\u001b[0m\u001b[0;34m\u001b[0m\u001b[0;34m\u001b[0m\u001b[0m\n",
            "\u001b[0;32m/usr/lib/python3.10/subprocess.py\u001b[0m in \u001b[0;36mrun\u001b[0;34m(input, capture_output, timeout, check, *popenargs, **kwargs)\u001b[0m\n\u001b[1;32m    525\u001b[0m         \u001b[0;32mif\u001b[0m \u001b[0mcheck\u001b[0m \u001b[0;32mand\u001b[0m \u001b[0mretcode\u001b[0m\u001b[0;34m:\u001b[0m\u001b[0;34m\u001b[0m\u001b[0;34m\u001b[0m\u001b[0m\n\u001b[0;32m--> 526\u001b[0;31m             raise CalledProcessError(retcode, process.args,\n\u001b[0m\u001b[1;32m    527\u001b[0m                                      output=stdout, stderr=stderr)\n",
            "\u001b[0;31mCalledProcessError\u001b[0m: Command '['ninja', '-v']' returned non-zero exit status 1.",
            "\nThe above exception was the direct cause of the following exception:\n",
            "\u001b[0;31mRuntimeError\u001b[0m                              Traceback (most recent call last)",
            "\u001b[0;32m<ipython-input-9-ce404e3f1e9c>\u001b[0m in \u001b[0;36m<cell line: 1>\u001b[0;34m()\u001b[0m\n\u001b[0;32m----> 1\u001b[0;31m module = load_inline(\n\u001b[0m\u001b[1;32m      2\u001b[0m     \u001b[0mname\u001b[0m\u001b[0;34m=\u001b[0m\u001b[0;34m'square'\u001b[0m\u001b[0;34m,\u001b[0m\u001b[0;34m\u001b[0m\u001b[0;34m\u001b[0m\u001b[0m\n\u001b[1;32m      3\u001b[0m     \u001b[0mcpp_sources\u001b[0m\u001b[0;34m=\u001b[0m\u001b[0;34m''\u001b[0m\u001b[0;34m,\u001b[0m\u001b[0;34m\u001b[0m\u001b[0;34m\u001b[0m\u001b[0m\n\u001b[1;32m      4\u001b[0m     \u001b[0mcuda_sources\u001b[0m\u001b[0;34m=\u001b[0m\u001b[0mcuda_kernel\u001b[0m\u001b[0;34m,\u001b[0m\u001b[0;34m\u001b[0m\u001b[0;34m\u001b[0m\u001b[0m\n\u001b[1;32m      5\u001b[0m     \u001b[0mfunctions\u001b[0m\u001b[0;34m=\u001b[0m\u001b[0;34m[\u001b[0m\u001b[0;34m'square_kernel'\u001b[0m\u001b[0;34m]\u001b[0m\u001b[0;34m,\u001b[0m\u001b[0;34m\u001b[0m\u001b[0;34m\u001b[0m\u001b[0m\n",
            "\u001b[0;32m/usr/local/lib/python3.10/dist-packages/torch/utils/cpp_extension.py\u001b[0m in \u001b[0;36mload_inline\u001b[0;34m(name, cpp_sources, cuda_sources, functions, extra_cflags, extra_cuda_cflags, extra_ldflags, extra_include_paths, build_directory, verbose, with_cuda, is_python_module, with_pytorch_error_handling, keep_intermediates, use_pch)\u001b[0m\n\u001b[1;32m   1633\u001b[0m         \u001b[0msources\u001b[0m\u001b[0;34m.\u001b[0m\u001b[0mappend\u001b[0m\u001b[0;34m(\u001b[0m\u001b[0mcuda_source_path\u001b[0m\u001b[0;34m)\u001b[0m\u001b[0;34m\u001b[0m\u001b[0;34m\u001b[0m\u001b[0m\n\u001b[1;32m   1634\u001b[0m \u001b[0;34m\u001b[0m\u001b[0m\n\u001b[0;32m-> 1635\u001b[0;31m     return _jit_compile(\n\u001b[0m\u001b[1;32m   1636\u001b[0m         \u001b[0mname\u001b[0m\u001b[0;34m,\u001b[0m\u001b[0;34m\u001b[0m\u001b[0;34m\u001b[0m\u001b[0m\n\u001b[1;32m   1637\u001b[0m         \u001b[0msources\u001b[0m\u001b[0;34m,\u001b[0m\u001b[0;34m\u001b[0m\u001b[0;34m\u001b[0m\u001b[0m\n",
            "\u001b[0;32m/usr/local/lib/python3.10/dist-packages/torch/utils/cpp_extension.py\u001b[0m in \u001b[0;36m_jit_compile\u001b[0;34m(name, sources, extra_cflags, extra_cuda_cflags, extra_ldflags, extra_include_paths, build_directory, verbose, with_cuda, is_python_module, is_standalone, keep_intermediates)\u001b[0m\n\u001b[1;32m   1708\u001b[0m                         \u001b[0msources\u001b[0m \u001b[0;34m=\u001b[0m \u001b[0mlist\u001b[0m\u001b[0;34m(\u001b[0m\u001b[0mhipified_sources\u001b[0m\u001b[0;34m)\u001b[0m\u001b[0;34m\u001b[0m\u001b[0;34m\u001b[0m\u001b[0m\n\u001b[1;32m   1709\u001b[0m \u001b[0;34m\u001b[0m\u001b[0m\n\u001b[0;32m-> 1710\u001b[0;31m                     _write_ninja_file_and_build_library(\n\u001b[0m\u001b[1;32m   1711\u001b[0m                         \u001b[0mname\u001b[0m\u001b[0;34m=\u001b[0m\u001b[0mname\u001b[0m\u001b[0;34m,\u001b[0m\u001b[0;34m\u001b[0m\u001b[0;34m\u001b[0m\u001b[0m\n\u001b[1;32m   1712\u001b[0m                         \u001b[0msources\u001b[0m\u001b[0;34m=\u001b[0m\u001b[0msources\u001b[0m\u001b[0;34m,\u001b[0m\u001b[0;34m\u001b[0m\u001b[0;34m\u001b[0m\u001b[0m\n",
            "\u001b[0;32m/usr/local/lib/python3.10/dist-packages/torch/utils/cpp_extension.py\u001b[0m in \u001b[0;36m_write_ninja_file_and_build_library\u001b[0;34m(name, sources, extra_cflags, extra_cuda_cflags, extra_ldflags, extra_include_paths, build_directory, verbose, with_cuda, is_standalone)\u001b[0m\n\u001b[1;32m   1821\u001b[0m     \u001b[0;32mif\u001b[0m \u001b[0mverbose\u001b[0m\u001b[0;34m:\u001b[0m\u001b[0;34m\u001b[0m\u001b[0;34m\u001b[0m\u001b[0m\n\u001b[1;32m   1822\u001b[0m         \u001b[0mprint\u001b[0m\u001b[0;34m(\u001b[0m\u001b[0;34mf'Building extension module {name}...'\u001b[0m\u001b[0;34m,\u001b[0m \u001b[0mfile\u001b[0m\u001b[0;34m=\u001b[0m\u001b[0msys\u001b[0m\u001b[0;34m.\u001b[0m\u001b[0mstderr\u001b[0m\u001b[0;34m)\u001b[0m\u001b[0;34m\u001b[0m\u001b[0;34m\u001b[0m\u001b[0m\n\u001b[0;32m-> 1823\u001b[0;31m     _run_ninja_build(\n\u001b[0m\u001b[1;32m   1824\u001b[0m         \u001b[0mbuild_directory\u001b[0m\u001b[0;34m,\u001b[0m\u001b[0;34m\u001b[0m\u001b[0;34m\u001b[0m\u001b[0m\n\u001b[1;32m   1825\u001b[0m         \u001b[0mverbose\u001b[0m\u001b[0;34m,\u001b[0m\u001b[0;34m\u001b[0m\u001b[0;34m\u001b[0m\u001b[0m\n",
            "\u001b[0;32m/usr/local/lib/python3.10/dist-packages/torch/utils/cpp_extension.py\u001b[0m in \u001b[0;36m_run_ninja_build\u001b[0;34m(build_directory, verbose, error_prefix)\u001b[0m\n\u001b[1;32m   2110\u001b[0m         \u001b[0;32mif\u001b[0m \u001b[0mhasattr\u001b[0m\u001b[0;34m(\u001b[0m\u001b[0merror\u001b[0m\u001b[0;34m,\u001b[0m \u001b[0;34m'output'\u001b[0m\u001b[0;34m)\u001b[0m \u001b[0;32mand\u001b[0m \u001b[0merror\u001b[0m\u001b[0;34m.\u001b[0m\u001b[0moutput\u001b[0m\u001b[0;34m:\u001b[0m  \u001b[0;31m# type: ignore[union-attr]\u001b[0m\u001b[0;34m\u001b[0m\u001b[0;34m\u001b[0m\u001b[0m\n\u001b[1;32m   2111\u001b[0m             \u001b[0mmessage\u001b[0m \u001b[0;34m+=\u001b[0m \u001b[0;34mf\": {error.output.decode(*SUBPROCESS_DECODE_ARGS)}\"\u001b[0m  \u001b[0;31m# type: ignore[union-attr]\u001b[0m\u001b[0;34m\u001b[0m\u001b[0;34m\u001b[0m\u001b[0m\n\u001b[0;32m-> 2112\u001b[0;31m         \u001b[0;32mraise\u001b[0m \u001b[0mRuntimeError\u001b[0m\u001b[0;34m(\u001b[0m\u001b[0mmessage\u001b[0m\u001b[0;34m)\u001b[0m \u001b[0;32mfrom\u001b[0m \u001b[0me\u001b[0m\u001b[0;34m\u001b[0m\u001b[0;34m\u001b[0m\u001b[0m\n\u001b[0m\u001b[1;32m   2113\u001b[0m \u001b[0;34m\u001b[0m\u001b[0m\n\u001b[1;32m   2114\u001b[0m \u001b[0;34m\u001b[0m\u001b[0m\n",
            "\u001b[0;31mRuntimeError\u001b[0m: Error building extension 'square_v1'"
          ]
        }
      ],
      "source": [
        "module = load_inline(\n",
        "    name='square',\n",
        "    cpp_sources='',\n",
        "    cuda_sources=cuda_kernel,\n",
        "    functions=['square_kernel'],\n",
        "    verbose=True\n",
        ")"
      ]
    }
  ],
  "metadata": {
    "accelerator": "GPU",
    "colab": {
      "gpuType": "T4",
      "provenance": []
    },
    "kernelspec": {
      "display_name": "Python 3",
      "name": "python3"
    },
    "language_info": {
      "codemirror_mode": {
        "name": "ipython",
        "version": 3
      },
      "file_extension": ".py",
      "mimetype": "text/x-python",
      "name": "python",
      "nbconvert_exporter": "python",
      "pygments_lexer": "ipython3",
      "version": "3.11.9"
    }
  },
  "nbformat": 4,
  "nbformat_minor": 0
}
