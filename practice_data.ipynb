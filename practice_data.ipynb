{
 "cells": [
  {
   "cell_type": "code",
   "execution_count": 2,
   "metadata": {},
   "outputs": [],
   "source": [
    "from torchdata import datapipes as dp\n",
    "from torchtext import transforms as T\n",
    "import spacy\n",
    "from torchtext.vocab import build_vocab_from_iterator"
   ]
  },
  {
   "cell_type": "code",
   "execution_count": 39,
   "metadata": {},
   "outputs": [],
   "source": [
    "file_path = \"data/netflix.txt\"\n",
    "data_pipe = dp.iter.IterableWrapper([file_path])\n",
    "data_pipe = dp.iter.FileOpener(data_pipe, mode='rb')"
   ]
  },
  {
   "cell_type": "code",
   "execution_count": 40,
   "metadata": {},
   "outputs": [
    {
     "data": {
      "text/plain": [
       "torch.utils.data.datapipes.iter.fileopener.FileOpenerIterDataPipe"
      ]
     },
     "execution_count": 40,
     "metadata": {},
     "output_type": "execute_result"
    }
   ],
   "source": [
    "type(data_pipe)"
   ]
  },
  {
   "cell_type": "code",
   "execution_count": 48,
   "metadata": {},
   "outputs": [
    {
     "name": "stdout",
     "output_type": "stream",
     "text": [
      "IterableWrapperIterDataPipe\n"
     ]
    }
   ],
   "source": [
    "print(data_pipe.datapipe)"
   ]
  },
  {
   "cell_type": "code",
   "execution_count": 49,
   "metadata": {},
   "outputs": [],
   "source": [
    "data_pipe = data_pipe.parse_csv(skip_lines=0,\n",
    "                                delimiter=',',\n",
    "                                as_tuple=True)"
   ]
  },
  {
   "cell_type": "code",
   "execution_count": 50,
   "metadata": {},
   "outputs": [
    {
     "name": "stdout",
     "output_type": "stream",
     "text": [
      "('show_id', 'type', 'title', 'director', 'cast', 'country', 'date_added', 'release_year', 'rating', 'duration', 'listed_in', 'description')\n",
      "('s1', 'Movie', 'Dick Johnson Is Dead', 'Kirsten Johnson', '', 'United States', 'September 25, 2021', '2020', 'PG-13', '90 min', 'Documentaries', 'As her father nears the end of his life, filmmaker Kirsten Johnson stages his death in inventive and comical ways to help them both face the inevitable.')\n",
      "('s2', 'TV Show', 'Blood & Water', '', 'Ama Qamata, Khosi Ngema, Gail Mabalane, Thabang Molaba, Dillon Windvogel, Natasha Thahane, Arno Greeff, Xolile Tshabalala, Getmore Sithole, Cindy Mahlangu, Ryle De Morny, Greteli Fincham, Sello Maake Ka-Ncube, Odwa Gwanya, Mekaila Mathys, Sandi Schultz, Duane Williams, Shamilla Miller, Patrick Mofokeng', 'South Africa', 'September 24, 2021', '2021', 'TV-MA', '2 Seasons', 'International TV Shows, TV Dramas, TV Mysteries', 'After crossing paths at a party, a Cape Town teen sets out to prove whether a private-school swimming star is her sister who was abducted at birth.')\n",
      "('s3', 'TV Show', 'Ganglands', 'Julien Leclercq', 'Sami Bouajila, Tracy Gotoas, Samuel Jouy, Nabiha Akkari, Sofia Lesaffre, Salim Kechiouche, Noureddine Farihi, Geert Van Rampelberg, Bakary Diombera', '', 'September 24, 2021', '2021', 'TV-MA', '1 Season', 'Crime TV Shows, International TV Shows, TV Action & Adventure', 'To protect his family from a powerful drug lord, skilled thief Mehdi and his expert team of robbers are pulled into a violent and deadly turf war.')\n"
     ]
    }
   ],
   "source": [
    "for ind, x in enumerate(data_pipe):\n",
    "    print(x)\n",
    "    if ind == 3:\n",
    "        break"
   ]
  },
  {
   "cell_type": "code",
   "execution_count": null,
   "metadata": {},
   "outputs": [],
   "source": [
    "netList = list(data_pipe)\n",
    "netList[3:5]"
   ]
  },
  {
   "cell_type": "code",
   "execution_count": 54,
   "metadata": {},
   "outputs": [],
   "source": [
    "# only keep type and description\n",
    "def keepDescription(row):\n",
    "    \"keep type, duration, description as list\"\n",
    "    return [row[1], row[-3], row[-1]]"
   ]
  },
  {
   "cell_type": "code",
   "execution_count": 55,
   "metadata": {},
   "outputs": [
    {
     "data": {
      "text/plain": [
       "[['duration', 'type', 'description'],\n",
       " ['90 min',\n",
       "  'Movie',\n",
       "  'As her father nears the end of his life, filmmaker Kirsten Johnson stages his death in inventive and comical ways to help them both face the inevitable.'],\n",
       " ['2 Seasons',\n",
       "  'TV Show',\n",
       "  'After crossing paths at a party, a Cape Town teen sets out to prove whether a private-school swimming star is her sister who was abducted at birth.']]"
      ]
     },
     "execution_count": 55,
     "metadata": {},
     "output_type": "execute_result"
    }
   ],
   "source": [
    "data_pipe = data_pipe.map(keepDescription)\n",
    "trimList = list(data_pipe)\n",
    "trimList[:3]"
   ]
  },
  {
   "cell_type": "code",
   "execution_count": 58,
   "metadata": {},
   "outputs": [],
   "source": [
    "eng_tokeniser = spacy.load(\"en_core_web_md\")\n",
    "\n",
    "def tokenisedDesc(desc):\n",
    "    \"Tokenise the description\"\n",
    "    return [token.text for token in eng_tokeniser(desc)]"
   ]
  },
  {
   "cell_type": "code",
   "execution_count": null,
   "metadata": {},
   "outputs": [],
   "source": [
    "tokenisedDesc('As her father nears the end of his life, filmmaker Kirsten Johnson stages his death in inventive and comical ways to help them both face the inevitable.')"
   ]
  },
  {
   "cell_type": "code",
   "execution_count": 60,
   "metadata": {},
   "outputs": [],
   "source": [
    "def createTokens(data_source):\n",
    "    for row in data_source:\n",
    "        yield tokenisedDesc(row[-1])"
   ]
  },
  {
   "cell_type": "code",
   "execution_count": 61,
   "metadata": {},
   "outputs": [],
   "source": [
    "desc_vocab = build_vocab_from_iterator(\n",
    "    createTokens(data_pipe),\n",
    "    min_freq=2,\n",
    "    specials=['<pad>','<sos>','<eos>','<unk>'],\n",
    "    special_first=True\n",
    ")\n",
    "desc_vocab.set_default_index(desc_vocab['<unk>'])"
   ]
  },
  {
   "cell_type": "code",
   "execution_count": 63,
   "metadata": {},
   "outputs": [
    {
     "data": {
      "text/plain": [
       "['<pad>', '<sos>', '<eos>', '<unk>', 'a', '.', ',', 'the', 'to', 'and']"
      ]
     },
     "execution_count": 63,
     "metadata": {},
     "output_type": "execute_result"
    }
   ],
   "source": [
    "# itos is a list\n",
    "desc_vocab.get_itos()[:10]"
   ]
  },
  {
   "cell_type": "code",
   "execution_count": 65,
   "metadata": {},
   "outputs": [
    {
     "data": {
      "text/plain": [
       "11002"
      ]
     },
     "execution_count": 65,
     "metadata": {},
     "output_type": "execute_result"
    }
   ],
   "source": [
    "# stoi is a dictionary\n",
    "desc_vocab.get_stoi()['wipes']"
   ]
  },
  {
   "cell_type": "code",
   "execution_count": null,
   "metadata": {},
   "outputs": [],
   "source": [
    "T.VocabTransform(vocab=desc_vocab)(['wipes', '<sos>'])"
   ]
  },
  {
   "cell_type": "code",
   "execution_count": 70,
   "metadata": {},
   "outputs": [],
   "source": [
    "text_transform = T.Sequential(\n",
    "    T.VocabTransform(desc_vocab),\n",
    "    T.AddToken(1, begin=True),\n",
    "    T.AddToken(2, begin=False)\n",
    ")"
   ]
  },
  {
   "cell_type": "code",
   "execution_count": 77,
   "metadata": {},
   "outputs": [
    {
     "data": {
      "text/plain": [
       "'After crossing paths at a party, a Cape Town teen sets out to prove whether a private-school swimming star is her sister who was abducted at birth.'"
      ]
     },
     "execution_count": 77,
     "metadata": {},
     "output_type": "execute_result"
    }
   ],
   "source": [
    "trimList[2][2]"
   ]
  },
  {
   "cell_type": "code",
   "execution_count": 80,
   "metadata": {},
   "outputs": [
    {
     "data": {
      "text/plain": [
       "[1,\n",
       " 42,\n",
       " 3495,\n",
       " 474,\n",
       " 37,\n",
       " 4,\n",
       " 388,\n",
       " 6,\n",
       " 4,\n",
       " 5118,\n",
       " 3431,\n",
       " 99,\n",
       " 176,\n",
       " 50,\n",
       " 8,\n",
       " 447,\n",
       " 1255,\n",
       " 4,\n",
       " 875,\n",
       " 12,\n",
       " 66,\n",
       " 4976,\n",
       " 154,\n",
       " 23,\n",
       " 14,\n",
       " 229,\n",
       " 28,\n",
       " 270,\n",
       " 1738,\n",
       " 37,\n",
       " 891,\n",
       " 5,\n",
       " 2]"
      ]
     },
     "execution_count": 80,
     "metadata": {},
     "output_type": "execute_result"
    }
   ],
   "source": [
    "transformed_desc = text_transform(tokenisedDesc(trimList[2][2]))\n",
    "transformed_desc"
   ]
  },
  {
   "cell_type": "code",
   "execution_count": 81,
   "metadata": {},
   "outputs": [
    {
     "name": "stdout",
     "output_type": "stream",
     "text": [
      "<sos> After crossing paths at a party , a Cape Town teen sets out to prove whether a private - school swimming star is her sister who was abducted at birth . <eos> "
     ]
    }
   ],
   "source": [
    "for x in transformed_desc:\n",
    "    print(desc_vocab.get_itos()[x], end=' ')"
   ]
  },
  {
   "cell_type": "code",
   "execution_count": null,
   "metadata": {},
   "outputs": [],
   "source": [
    "def applyTransform(row):\n",
    "    return [row, text_transform(tokenisedDesc(row[2]))]\n",
    "\n",
    "dpipe = data_pipe.map(applyTransform)\n",
    "tokenedlist = list(dpipe)\n",
    "tokenedlist[1]"
   ]
  },
  {
   "cell_type": "code",
   "execution_count": 100,
   "metadata": {},
   "outputs": [],
   "source": [
    "def onlyTokens(row):\n",
    "    return text_transform(tokenisedDesc(row[2]))"
   ]
  },
  {
   "cell_type": "code",
   "execution_count": null,
   "metadata": {},
   "outputs": [],
   "source": [
    "onlytoken_pipe = data_pipe.map(onlyTokens)\n",
    "onlytoken_list = list(onlytoken_pipe)\n",
    "onlytoken_list[1]"
   ]
  },
  {
   "cell_type": "code",
   "execution_count": 106,
   "metadata": {},
   "outputs": [],
   "source": [
    "def sortBucket(buc):\n",
    "    \"Sort a bucket based length of target sequence\"\n",
    "    return sorted(buc, key = lambda x: len(x), reverse=True)"
   ]
  },
  {
   "cell_type": "code",
   "execution_count": 107,
   "metadata": {},
   "outputs": [],
   "source": [
    "sorted_pipe = onlytoken_pipe.bucketbatch(\n",
    "    batch_size=4, batch_num=5, bucket_num=1,\n",
    "    use_in_batch_shuffle=False, sort_key=sortBucket\n",
    ")"
   ]
  },
  {
   "cell_type": "code",
   "execution_count": 108,
   "metadata": {},
   "outputs": [
    {
     "name": "stdout",
     "output_type": "stream",
     "text": [
      "[[1, 3371, 47, 131, 72, 522, 17, 2358, 5, 1192, 36, 1560, 19, 7, 2574, 4948, 6, 1486, 7, 6106, 49, 10, 616, 23, 443, 85, 634, 5, 2], [1, 21, 39, 56, 4078, 1444, 30, 7563, 32, 18, 577, 426, 4736, 20, 70, 6, 9, 24, 40, 461, 8, 3487, 816, 10, 7, 355, 913, 5, 2], [1, 156, 189, 150, 30, 3, 194, 67, 6, 1226, 2489, 261, 1366, 7597, 10, 599, 9, 6869, 11, 90, 516, 10, 47, 6, 641, 9, 5743, 5, 2], [1, 3, 26, 13, 414, 16, 1642, 6, 4, 1596, 12, 997, 2205, 68, 167, 303, 8, 1183, 19, 7, 375, 16, 538, 9, 181, 1348, 5, 2]]\n"
     ]
    }
   ],
   "source": [
    "for dat in sorted_pipe:\n",
    "    print(dat)\n",
    "    break"
   ]
  },
  {
   "cell_type": "code",
   "execution_count": 110,
   "metadata": {},
   "outputs": [
    {
     "data": {
      "text/plain": [
       "tensor([    1,  1092,     7,   174,     9,  9704,    10,  4189,   357,  3133,\n",
       "            6,    22,  1011,  5219,  7060,     8,     7, 10953,  1680,    10,\n",
       "         8280,     5,     2])"
      ]
     },
     "execution_count": 110,
     "metadata": {},
     "output_type": "execute_result"
    }
   ],
   "source": [
    "def applyPadding(seq):\n",
    "    return T.ToTensor(0)(list(seq[-1]))\n",
    "\n",
    "padded_pipe = sorted_pipe.map(applyPadding)\n",
    "\n",
    "padded_list = list(padded_pipe)\n",
    "padded_list[1]"
   ]
  },
  {
   "cell_type": "code",
   "execution_count": 113,
   "metadata": {},
   "outputs": [],
   "source": [
    "dits = desc_vocab.get_itos() \n",
    "\n",
    "def showSentence(data_pep):\n",
    "    for it, x in enumerate(data_pep):\n",
    "        desc = \"\"\n",
    "        for ind in x:\n",
    "            desc += \" \" + dits[ind]\n",
    "        print(desc)\n",
    "        if it == 3:\n",
    "            break"
   ]
  },
  {
   "cell_type": "code",
   "execution_count": 114,
   "metadata": {},
   "outputs": [
    {
     "name": "stdout",
     "output_type": "stream",
     "text": [
      " <sos> Join the StoryBots and the space travelers of the historic Inspiration4 mission as they search for answers to kids ' questions about space . <eos>\n",
      " <sos> <unk> documents reveal the post - WWII life of Otto <unk> , a close Hitler ally who escaped to Spain and became an adviser to world presidents . <eos>\n",
      " <sos> The adventures of adolescent ninja Naruto <unk> continue as he 's tasked with protecting a <unk> from a demon – but to do so , he must die . <eos>\n",
      " <sos> When a good deed unwittingly endangers his clan , a <unk> - century Turkish warrior agrees to fight a <unk> 's enemies in exchange for new tribal land . <eos>\n"
     ]
    }
   ],
   "source": [
    "showSentence(padded_pipe)"
   ]
  }
 ],
 "metadata": {
  "kernelspec": {
   "display_name": "Python 3",
   "language": "python",
   "name": "python3"
  },
  "language_info": {
   "codemirror_mode": {
    "name": "ipython",
    "version": 3
   },
   "file_extension": ".py",
   "mimetype": "text/x-python",
   "name": "python",
   "nbconvert_exporter": "python",
   "pygments_lexer": "ipython3",
   "version": "3.11.4"
  }
 },
 "nbformat": 4,
 "nbformat_minor": 2
}
