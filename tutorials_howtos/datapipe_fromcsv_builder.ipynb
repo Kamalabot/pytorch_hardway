{
 "cells": [
  {
   "cell_type": "markdown",
   "metadata": {},
   "source": [
    "Work on Multiple datasets, from manipulation, modeling and finally prediction. \n",
    "\n",
    "- IMDB\n",
    "\n",
    "- DBPedia \n",
    "\n",
    "- YahooAnswers"
   ]
  },
  {
   "cell_type": "code",
   "execution_count": 9,
   "metadata": {},
   "outputs": [],
   "source": [
    "import torch\n",
    "from torch import nn\n",
    "from torchtext.datasets import IMDB, DBpedia, YahooAnswers, AG_NEWS\n",
    "from torch.utils.data import DataLoader\n",
    "import os\n",
    "import tarfile\n",
    "from torchdata import datapipes as dp\n",
    "from torch import optim\n",
    "import time"
   ]
  },
  {
   "cell_type": "code",
   "execution_count": null,
   "metadata": {},
   "outputs": [],
   "source": [
    "torch.load()"
   ]
  },
  {
   "cell_type": "code",
   "execution_count": 2,
   "metadata": {},
   "outputs": [
    {
     "name": "stderr",
     "output_type": "stream",
     "text": [
      "INFO|This is awesome\n"
     ]
    }
   ],
   "source": [
    "import logging\n",
    "tlog = logging.getLogger('tlog')\n",
    "tlog.setLevel(logging.INFO)\n",
    "thndl = logging.StreamHandler()\n",
    "tform = logging.Formatter('%(levelname)s|%(message)s')\n",
    "thndl.setFormatter(tform)\n",
    "tlog.addHandler(thndl)\n",
    "tlog.info(\"This is awesome\")\n",
    "tlog.debug(\"this is nice\")"
   ]
  },
  {
   "cell_type": "code",
   "execution_count": 78,
   "metadata": {},
   "outputs": [],
   "source": [
    "train_ag, test_ag = AG_NEWS(split=('train', 'test'))"
   ]
  },
  {
   "cell_type": "code",
   "execution_count": 79,
   "metadata": {},
   "outputs": [
    {
     "name": "stdout",
     "output_type": "stream",
     "text": [
      "(3, \"Wall St. Bears Claw Back Into the Black (Reuters) Reuters - Short-sellers, Wall Street's dwindling\\\\band of ultra-cynics, are seeing green again.\")\n",
      "(3, 'Carlyle Looks Toward Commercial Aerospace (Reuters) Reuters - Private investment firm Carlyle Group,\\\\which has a reputation for making well-timed and occasionally\\\\controversial plays in the defense industry, has quietly placed\\\\its bets on another part of the market.')\n",
      "(3, \"Oil and Economy Cloud Stocks' Outlook (Reuters) Reuters - Soaring crude prices plus worries\\\\about the economy and the outlook for earnings are expected to\\\\hang over the stock market next week during the depth of the\\\\summer doldrums.\")\n",
      "(3, 'Iraq Halts Oil Exports from Main Southern Pipeline (Reuters) Reuters - Authorities have halted oil export\\\\flows from the main pipeline in southern Iraq after\\\\intelligence showed a rebel militia could strike\\\\infrastructure, an oil official said on Saturday.')\n",
      "(3, 'Oil prices soar to all-time record, posing new menace to US economy (AFP) AFP - Tearaway world oil prices, toppling records and straining wallets, present a new economic menace barely three months before the US presidential elections.')\n"
     ]
    }
   ],
   "source": [
    "for i, x in enumerate(train_ag):\n",
    "    print(x)\n",
    "    if i == 4:\n",
    "        break"
   ]
  },
  {
   "cell_type": "code",
   "execution_count": 84,
   "metadata": {},
   "outputs": [
    {
     "data": {
      "text/plain": [
       "{1, 2, 3, 4}"
      ]
     },
     "execution_count": 84,
     "metadata": {},
     "output_type": "execute_result"
    }
   ],
   "source": [
    "ag_labels = [lab for lab, _ in train_ag]\n",
    "set_ag = set(ag_labels)\n",
    "set_ag"
   ]
  },
  {
   "cell_type": "code",
   "execution_count": 3,
   "metadata": {},
   "outputs": [],
   "source": [
    "def get_labels(iter_data):\n",
    "    labels = [x[0] for x in iter_data]\n",
    "    set_labels = set(labels)\n",
    "    return set_labels"
   ]
  },
  {
   "cell_type": "code",
   "execution_count": 5,
   "metadata": {},
   "outputs": [
    {
     "name": "stdout",
     "output_type": "stream",
     "text": [
      "(1, 'I rented I AM CURIOUS-YELLOW from my video store because of all the controversy that surrounded it when it was first released in 1967. I also heard that at first it was seized by U.S. customs if it ever tried to enter this country, therefore being a fan of films considered \"controversial\" I really had to see this for myself.<br /><br />The plot is centered around a young Swedish drama student named Lena who wants to learn everything she can about life. In particular she wants to focus her attentions to making some sort of documentary on what the average Swede thought about certain political issues such as the Vietnam War and race issues in the United States. In between asking politicians and ordinary denizens of Stockholm about their opinions on politics, she has sex with her drama teacher, classmates, and married men.<br /><br />What kills me about I AM CURIOUS-YELLOW is that 40 years ago, this was considered pornographic. Really, the sex and nudity scenes are few and far between, even then it\\'s not shot like some cheaply made porno. While my countrymen mind find it shocking, in reality sex and nudity are a major staple in Swedish cinema. Even Ingmar Bergman, arguably their answer to good old boy John Ford, had sex scenes in his films.<br /><br />I do commend the filmmakers for the fact that any sex shown in the film is shown for artistic purposes rather than just to shock people and make money to be shown in pornographic theaters in America. I AM CURIOUS-YELLOW is a good film for anyone wanting to study the meat and potatoes (no pun intended) of Swedish cinema. But really, this film doesn\\'t have much of a plot.')\n"
     ]
    }
   ],
   "source": [
    "# get the datasets first. (IMDB)\n",
    "\n",
    "train_imdb, test_imdb = IMDB(split=('train','test'))\n",
    "train_list = list(train_imdb)\n",
    "print(train_list[0])"
   ]
  },
  {
   "cell_type": "code",
   "execution_count": 6,
   "metadata": {},
   "outputs": [
    {
     "data": {
      "text/plain": [
       "{1, 2}"
      ]
     },
     "execution_count": 6,
     "metadata": {},
     "output_type": "execute_result"
    }
   ],
   "source": [
    "set_imdb_labels = get_labels(test_imdb)\n",
    "set_imdb_labels"
   ]
  },
  {
   "cell_type": "code",
   "execution_count": 9,
   "metadata": {},
   "outputs": [],
   "source": [
    "# get the datasets first. (DBPedia failed, moving to YahooAnswers which also failed)\n",
    "# Proceeding to work on extracting the files and then creating the datapipes "
   ]
  },
  {
   "cell_type": "code",
   "execution_count": 10,
   "metadata": {},
   "outputs": [
    {
     "name": "stdout",
     "output_type": "stream",
     "text": [
      "dbpedia_csv\n"
     ]
    }
   ],
   "source": [
    "# extract the data from the tgz file\n",
    "# extract the dbpedia folder to get the train and test csv\n",
    "with tarfile.open('../data/dbpedia_csv.tar.gz',mode='r:gz') as db:\n",
    "    print(db.members[0].name)\n",
    "    db.extractall(\"../data/db_pedia/\")  # this will create a folder and place data in it"
   ]
  },
  {
   "cell_type": "code",
   "execution_count": 26,
   "metadata": {},
   "outputs": [
    {
     "name": "stdout",
     "output_type": "stream",
     "text": [
      "yahoo_answers_csv\n"
     ]
    }
   ],
   "source": [
    "# extract the yahoo answers folder, to get train and test csv\n",
    "with tarfile.open('../data/yahoo_answers_csv.tar.gz', mode='r:gz') as yh:\n",
    "    print(yh.members[0].name)\n",
    "    yh.extractall(\"../data/\")"
   ]
  },
  {
   "cell_type": "code",
   "execution_count": 10,
   "metadata": {},
   "outputs": [
    {
     "name": "stdout",
     "output_type": "stream",
     "text": [
      "./cnn/stories\n"
     ]
    }
   ],
   "source": [
    "# extract the yahoo answers folder, to get train and test csv\n",
    "with tarfile.open('../data/cnn_stories.tgz', mode='r:gz') as yh:\n",
    "    print(yh.members[0].name)\n",
    "    yh.extractall(\"../data/\")"
   ]
  },
  {
   "cell_type": "markdown",
   "metadata": {},
   "source": [
    "### A detour to create datapipes from csv file\n",
    "\n",
    "- List all CSV files in a directory\n",
    "\n",
    "- Load CSV files\n",
    "\n",
    "- Parse CSV file and yield rows\n",
    "\n",
    "- Split our dataset into training and validation sets"
   ]
  },
  {
   "cell_type": "code",
   "execution_count": 7,
   "metadata": {},
   "outputs": [
    {
     "name": "stdout",
     "output_type": "stream",
     "text": [
      "['../data/db_pedia/dbpedia_csv/test.csv', '../data/db_pedia/dbpedia_csv/train.csv']\n"
     ]
    }
   ],
   "source": [
    "# Starting by reading the folder\n",
    "dbpedia = \"../data/db_pedia/dbpedia_csv/\"\n",
    "filepipe = dp.iter.FileLister(dbpedia).filter(lambda file: file.endswith(\".csv\"))\n",
    "print(list(filepipe))"
   ]
  },
  {
   "cell_type": "code",
   "execution_count": 11,
   "metadata": {},
   "outputs": [],
   "source": [
    "def create_pipe_from_folder(folder_path: str, train_split: float):\n",
    "    \"\"\"Returns train and test pipe from the folders containing csv files\"\"\"\n",
    "    filepipe = dp.iter.FileLister(folder_path).filter(lambda file: file.endswith('.csv'))\n",
    "    tlog.info(list(filepipe))\n",
    "    readpipe = dp.iter.FileOpener(filepipe, mode='rt', encoding='utf-8')\n",
    "    csvpipe = readpipe.parse_csv(delimiter=',')\n",
    "    tot_length = len(list(csvpipe))\n",
    "    tlog.info(tot_length)\n",
    "    test_split = 1 - train_split  # get the train split\n",
    "    train_pipe, test_pipe = csvpipe.random_split(total_length=tot_length,\n",
    "                                                 weights={\n",
    "                                                     \"train\":train_split,\n",
    "                                                     \"test\":test_split\n",
    "                                                 }, seed=1234)\n",
    "    tlog.info(\"Returning pipes...\")                                                 \n",
    "    return train_pipe, test_pipe"
   ]
  },
  {
   "cell_type": "code",
   "execution_count": 8,
   "metadata": {},
   "outputs": [
    {
     "data": {
      "text/plain": [
       "472500"
      ]
     },
     "execution_count": 8,
     "metadata": {},
     "output_type": "execute_result"
    }
   ],
   "source": [
    "readpipe = dp.iter.FileOpener(filepipe, mode='rt',encoding='utf-8')  # mode rt is read in text mode\n",
    "csvpipe = readpipe.parse_csv(delimiter=',')\n",
    "csv_list = list(csvpipe)\n",
    "len(csv_list)\n",
    "db_train_pipe, db_test_pipe = csvpipe.random_split(total_length=630000,  # ensure the correct value is provided\n",
    "                                                    weights={\"train\": 0.75,\n",
    "                                                             \"test\": 0.25},\n",
    "                                                    seed=1234)\n",
    "db_train_list = list(db_train_pipe)\n",
    "len(db_train_list)"
   ]
  },
  {
   "cell_type": "code",
   "execution_count": 47,
   "metadata": {},
   "outputs": [
    {
     "name": "stdout",
     "output_type": "stream",
     "text": [
      "['1', 'Odd Lot Entertainment', \" OddLot Entertainment founded in 2001 by longtime producers Gigi Pritzker and Deborah Del Prete (The Wedding Planner) is a film production and financing company based in Culver City California.OddLot produced the film version of Orson Scott Card's sci-fi novel Ender's Game. A film version of this novel had been in the works in one form or another for more than a decade by the time of its release.\"]\n"
     ]
    }
   ],
   "source": [
    "for x in db_train_pipe:\n",
    "    print(x)\n",
    "    break\n",
    "\n",
    "# the data to be tokenised is present in the 2nd idx. "
   ]
  },
  {
   "cell_type": "code",
   "execution_count": 9,
   "metadata": {},
   "outputs": [
    {
     "data": {
      "text/plain": [
       "{'1', '10', '11', '12', '13', '14', '2', '3', '4', '5', '6', '7', '8', '9'}"
      ]
     },
     "execution_count": 9,
     "metadata": {},
     "output_type": "execute_result"
    }
   ],
   "source": [
    "set_db_labels = get_labels(db_train_pipe)\n",
    "set_db_labels"
   ]
  },
  {
   "cell_type": "code",
   "execution_count": 12,
   "metadata": {},
   "outputs": [
    {
     "name": "stderr",
     "output_type": "stream",
     "text": [
      "INFO|['../data/yahoo_answers_csv/test.csv', '../data/yahoo_answers_csv/train.csv']\n",
      "INFO|1460000\n",
      "INFO|Returning pipes...\n"
     ]
    }
   ],
   "source": [
    "yh_train_pipe, yh_test_pipe = create_pipe_from_folder(folder_path='../data/yahoo_answers_csv/',\n",
    "                                                      train_split=0.75)"
   ]
  },
  {
   "cell_type": "code",
   "execution_count": 13,
   "metadata": {},
   "outputs": [
    {
     "name": "stdout",
     "output_type": "stream",
     "text": [
      "['2', 'Why does Zebras have stripes?', 'What is the purpose or those stripes? Who do they serve the Zebras in the wild life?', 'this provides camouflage - predator vision is such that it is usually difficult for them to see complex patterns']\n"
     ]
    }
   ],
   "source": [
    "for x in yh_train_pipe:\n",
    "    print(x)\n",
    "    break\n",
    "\n",
    "# the data to be tokenised is present in the 2nd idx. "
   ]
  },
  {
   "cell_type": "code",
   "execution_count": 14,
   "metadata": {},
   "outputs": [
    {
     "data": {
      "text/plain": [
       "{'1', '10', '2', '3', '4', '5', '6', '7', '8', '9'}"
      ]
     },
     "execution_count": 14,
     "metadata": {},
     "output_type": "execute_result"
    }
   ],
   "source": [
    "set_yh_label = get_labels(yh_train_pipe)\n",
    "set_yh_label"
   ]
  },
  {
   "cell_type": "code",
   "execution_count": 15,
   "metadata": {},
   "outputs": [],
   "source": [
    "# Starting the tokenisation process with IMDB first\n",
    "\n",
    "from torchtext.data.utils import get_tokenizer\n",
    "from torchtext.vocab import build_vocab_from_iterator\n",
    "\n",
    "tokenizer = get_tokenizer(\"basic_english\")\n",
    "# Other tokenizers available are en, spacy, revtok, toktok, spacy, moses, subword"
   ]
  },
  {
   "cell_type": "code",
   "execution_count": 41,
   "metadata": {},
   "outputs": [
    {
     "name": "stderr",
     "output_type": "stream",
     "text": [
      "d:\\python_installs\\Lib\\site-packages\\torchtext\\data\\utils.py:105: UserWarning: Spacy model \"en\" could not be loaded, trying \"en_core_web_sm\" instead\n",
      "  warnings.warn(\n"
     ]
    }
   ],
   "source": [
    "spacy_tokeniser = get_tokenizer(\"spacy\")"
   ]
  },
  {
   "cell_type": "code",
   "execution_count": 42,
   "metadata": {},
   "outputs": [
    {
     "data": {
      "text/plain": [
       "['This', 'is', 'spacy', 'example']"
      ]
     },
     "execution_count": 42,
     "metadata": {},
     "output_type": "execute_result"
    }
   ],
   "source": [
    "spacy_tokeniser(\"This is spacy example\")"
   ]
  },
  {
   "cell_type": "code",
   "execution_count": 17,
   "metadata": {},
   "outputs": [],
   "source": [
    "def yield_tokens(data_iter):\n",
    "    # there is class in the 1st element, which is discarded\n",
    "    for _, text in data_iter:\n",
    "        yield tokenizer(text)\n",
    "\n",
    "def yield_tokens_other(data_iter):\n",
    "    # there is class and labels in 0 and 1st idx\n",
    "    for _, _, text in data_iter:\n",
    "        yield tokenizer(text)\n",
    "\n",
    "def yield_tokens_yahoo(data_iter):\n",
    "    # there is class and labels in 0 and 1st idx\n",
    "    for _, _, _, text in data_iter:\n",
    "        yield tokenizer(text)"
   ]
  },
  {
   "cell_type": "code",
   "execution_count": 18,
   "metadata": {},
   "outputs": [
    {
     "name": "stdout",
     "output_type": "stream",
     "text": [
      "['oddlot', 'entertainment', 'founded', 'in', '2001', 'by', 'longtime', 'producers', 'gigi', 'pritzker', 'and', 'deborah', 'del', 'prete', '(', 'the', 'wedding', 'planner', ')', 'is', 'a', 'film', 'production', 'and', 'financing', 'company', 'based', 'in', 'culver', 'city', 'california', '.', 'oddlot', 'produced', 'the', 'film', 'version', 'of', 'orson', 'scott', 'card', \"'\", 's', 'sci-fi', 'novel', 'ender', \"'\", 's', 'game', '.', 'a', 'film', 'version', 'of', 'this', 'novel', 'had', 'been', 'in', 'the', 'works', 'in', 'one', 'form', 'or', 'another', 'for', 'more', 'than', 'a', 'decade', 'by', 'the', 'time', 'of', 'its', 'release', '.']\n"
     ]
    }
   ],
   "source": [
    "for x in yield_tokens_other(db_train_pipe):\n",
    "    print(x)\n",
    "    break"
   ]
  },
  {
   "cell_type": "code",
   "execution_count": 22,
   "metadata": {},
   "outputs": [],
   "source": [
    "imdb_vocab = build_vocab_from_iterator(yield_tokens(train_imdb), specials=['<unk>'])\n",
    "imdb_vocab.set_default_index(imdb_vocab['<unk>'])"
   ]
  },
  {
   "cell_type": "code",
   "execution_count": 23,
   "metadata": {},
   "outputs": [
    {
     "data": {
      "text/plain": [
       "[42, 9, 4, 192]"
      ]
     },
     "execution_count": 23,
     "metadata": {},
     "output_type": "execute_result"
    }
   ],
   "source": [
    "imdb_vocab(tokenizer(\"there is a lot\"))"
   ]
  },
  {
   "cell_type": "code",
   "execution_count": 19,
   "metadata": {},
   "outputs": [],
   "source": [
    "# build vocab for dbpedia\n",
    "db_vocab = build_vocab_from_iterator(yield_tokens_other(db_train_pipe), specials=['<unk>'])\n",
    "db_vocab.set_default_index(db_vocab['<unk>'])"
   ]
  },
  {
   "cell_type": "code",
   "execution_count": 20,
   "metadata": {},
   "outputs": [],
   "source": [
    "yh_vocab = build_vocab_from_iterator(yield_tokens_yahoo(yh_train_pipe), special_first=['<unk>'])\n",
    "yh_vocab.set_default_index(db_vocab['<unk>'])"
   ]
  },
  {
   "cell_type": "code",
   "execution_count": 21,
   "metadata": {},
   "outputs": [],
   "source": [
    "# imdb text pipeline to convert the sentence into indices of the vocabulary\n",
    "imdb_text_pipeline = lambda x: imdb_vocab(tokenizer(x))\n",
    "label_pipeline = lambda x: int(x) - 1\n",
    "# db text pipeline to convert the sentence into indices of the vocabulary\n",
    "db_text_pipeline = lambda x: db_vocab(tokenizer(x))\n",
    "# yahoo text pipeline to convert the sentence into indices of the vocabulary\n",
    "yh_text_pipeline = lambda x: yh_vocab(tokenizer(x))"
   ]
  },
  {
   "cell_type": "code",
   "execution_count": 51,
   "metadata": {},
   "outputs": [],
   "source": [
    "device = torch.device(\"cuda\" if torch.cuda.is_available() else 'cpu')\n",
    "\n",
    "def collate_imdb(batch):\n",
    "    \"batches of lables and text returned as label and text lists\"\n",
    "    label_list, text_list, offsets = [], [], [0]\n",
    "    for _label, _text in batch:\n",
    "        label_list.append(label_pipeline(_label))\n",
    "        process_text = torch.tensor(imdb_text_pipeline(_text), dtype=torch.int64)\n",
    "        text_list.append(process_text)\n",
    "        offsets.append(process_text.size(0))\n",
    "\n",
    "    label_list = torch.tensor(label_list, dtype=torch.int64)\n",
    "    offsets = torch.tensor(offsets[:-1]).cumsum(dim=0)\n",
    "    text_list = torch.cat(text_list)\n",
    "    return label_list.to(device), text_list.to(device), offsets.to(device)\n",
    "\n",
    "train_imdb_loader = DataLoader(\n",
    "    train_imdb, batch_size=8, shuffle=False, collate_fn=collate_imdb\n",
    ")\n",
    "\n",
    "test_imdb_loader = DataLoader(\n",
    "    test_imdb, batch_size=8, shuffle=False, collate_fn=collate_imdb\n",
    ")\n"
   ]
  },
  {
   "cell_type": "code",
   "execution_count": 42,
   "metadata": {},
   "outputs": [
    {
     "data": {
      "text/plain": [
       "2"
      ]
     },
     "execution_count": 42,
     "metadata": {},
     "output_type": "execute_result"
    }
   ],
   "source": [
    "num_class_imdb = len(set_imdb_labels)\n",
    "num_class_imdb"
   ]
  },
  {
   "cell_type": "code",
   "execution_count": null,
   "metadata": {},
   "outputs": [],
   "source": [
    "imdb_vocab_len = len(imdb_vocab)\n",
    "imdb_vocab_len"
   ]
  },
  {
   "cell_type": "code",
   "execution_count": 36,
   "metadata": {},
   "outputs": [],
   "source": [
    "from torch import nn\n",
    "\n",
    "\n",
    "class TextClassificationModel(nn.Module):\n",
    "    def __init__(self, vocab_size, embed_dim, num_class):\n",
    "        super(TextClassificationModel, self).__init__()\n",
    "        self.embedding = nn.EmbeddingBag(vocab_size, embed_dim, sparse=False)  # intialize embedding bag obj\n",
    "        self.fc = nn.Linear(embed_dim, num_class)  # create Linear model\n",
    "        self.init_weights()  # init_weights method is defined below\n",
    "\n",
    "    def init_weights(self):\n",
    "        # assigning weights uniformly\n",
    "        initrange = 0.5\n",
    "        self.embedding.weight.data.uniform_(-initrange, initrange)\n",
    "        self.fc.weight.data.uniform_(-initrange, initrange)\n",
    "        self.fc.bias.data.zero_()\n",
    "\n",
    "    def forward(self, text, offsets):\n",
    "        # model embeds the text\n",
    "        embedded = self.embedding(text, offsets)\n",
    "        return self.fc(embedded)"
   ]
  },
  {
   "cell_type": "code",
   "execution_count": null,
   "metadata": {},
   "outputs": [],
   "source": [
    "model_imdb = TextClassificationModel(imdb_vocab_len, 64, num_class_imdb)\n",
    "model_imdb = model_imdb.to(device=device)"
   ]
  },
  {
   "cell_type": "code",
   "execution_count": null,
   "metadata": {},
   "outputs": [],
   "source": [
    "EPOCHS = 10\n",
    "LR = 5\n",
    "BATCH = 64\n",
    "\n",
    "criterion = torch.nn.CrossEntropyLoss()\n",
    "optimizer = optim.SGD(model_imdb.parameters(), lr=LR)\n",
    "scheduler = optim.lr_scheduler.StepLR(optimizer, 1.0, gamma=0.1)\n",
    "total_accu = None"
   ]
  },
  {
   "cell_type": "code",
   "execution_count": 49,
   "metadata": {},
   "outputs": [],
   "source": [
    "import time\n",
    "\n",
    "def train(model, dataloader):\n",
    "    tlog.info('Entering into Train')\n",
    "    model.train()\n",
    "    total_acc, total_count = 0, 0\n",
    "    log_interval = 500  # logging interval\n",
    "    start_time = time.time()\n",
    "    # starting the for loop for training\n",
    "    for idx, (label, text, offsets) in enumerate(dataloader):\n",
    "        optimizer.zero_grad()\n",
    "        predicted_label = model(text, offsets)  # based on forward pass\n",
    "        loss = criterion(predicted_label, label)  # getting the loss\n",
    "        loss.backward()  # back propagation\n",
    "        torch.nn.utils.clip_grad_norm_(model.parameters(), 0.1)\n",
    "        # torch.nn.utils.clip_grad_norm_ performs gradient clipping. It is used to mitigate the problem of exploding gradients, which is of particular concern for recurrent networks (which LSTMs are a type of).\n",
    "        optimizer.step()\n",
    "        total_acc += (predicted_label.argmax(1) == label).sum().item()\n",
    "        total_count += label.size(0)\n",
    "        if idx % log_interval == 0 and idx > 0:\n",
    "            elapsed = time.time() - start_time\n",
    "            print(\n",
    "                \"epoch {:3d}\"\n",
    "                \"| accuracy {:8.3f}\".format(\n",
    "                    epoch, total_acc / total_count\n",
    "                )\n",
    "            )\n",
    "            total_acc, total_count = 0, 0\n",
    "            start_time = time.time()"
   ]
  },
  {
   "cell_type": "code",
   "execution_count": 48,
   "metadata": {},
   "outputs": [],
   "source": [
    "def evaluate(model, dataloader):\n",
    "    tlog.info('Entering into Evaluate')\n",
    "    model_imdb.eval()\n",
    "    total_acc, total_count = 0, 0\n",
    "\n",
    "    with torch.no_grad():\n",
    "        for idx, (label, text, offsets) in enumerate(dataloader):\n",
    "            predicted_label = model(text, offsets)  # predict without calculating grad\n",
    "            loss = criterion(predicted_label, label)  # check the loss\n",
    "            total_acc += (predicted_label.argmax(1) == label).sum().item()  # get accuracy\n",
    "            total_count += label.size(0)  # count the total\n",
    "    return total_acc / total_count"
   ]
  },
  {
   "cell_type": "code",
   "execution_count": 40,
   "metadata": {},
   "outputs": [
    {
     "name": "stderr",
     "output_type": "stream",
     "text": [
      "INFO|Entering into Train\n"
     ]
    },
    {
     "name": "stdout",
     "output_type": "stream",
     "text": [
      "epoch   1| accuracy    0.872\n",
      "epoch   1| accuracy    0.885\n"
     ]
    },
    {
     "name": "stderr",
     "output_type": "stream",
     "text": [
      "INFO|Entering into Evaluate\n"
     ]
    },
    {
     "name": "stdout",
     "output_type": "stream",
     "text": [
      "epoch   1| accuracy    0.868\n"
     ]
    },
    {
     "name": "stderr",
     "output_type": "stream",
     "text": [
      "INFO|Entering into Train\n"
     ]
    },
    {
     "name": "stdout",
     "output_type": "stream",
     "text": [
      "-----------------------------------------------------------\n",
      "End of Epoch:1.000 | time: 1706177418.1865578 | accuracy: 0.501\n",
      "epoch   2| accuracy    0.872\n",
      "epoch   2| accuracy    0.885\n"
     ]
    },
    {
     "name": "stderr",
     "output_type": "stream",
     "text": [
      "INFO|Entering into Evaluate\n"
     ]
    },
    {
     "name": "stdout",
     "output_type": "stream",
     "text": [
      "epoch   2| accuracy    0.868\n"
     ]
    },
    {
     "name": "stderr",
     "output_type": "stream",
     "text": [
      "INFO|Entering into Train\n"
     ]
    },
    {
     "name": "stdout",
     "output_type": "stream",
     "text": [
      "-----------------------------------------------------------\n",
      "End of Epoch:2.000 | time: 1706177422.0654423 | accuracy: 0.501\n",
      "epoch   3| accuracy    0.872\n",
      "epoch   3| accuracy    0.885\n"
     ]
    },
    {
     "name": "stderr",
     "output_type": "stream",
     "text": [
      "INFO|Entering into Evaluate\n"
     ]
    },
    {
     "name": "stdout",
     "output_type": "stream",
     "text": [
      "epoch   3| accuracy    0.868\n"
     ]
    },
    {
     "name": "stderr",
     "output_type": "stream",
     "text": [
      "INFO|Entering into Train\n"
     ]
    },
    {
     "name": "stdout",
     "output_type": "stream",
     "text": [
      "-----------------------------------------------------------\n",
      "End of Epoch:3.000 | time: 1706177425.919627 | accuracy: 0.501\n",
      "epoch   4| accuracy    0.872\n",
      "epoch   4| accuracy    0.885\n"
     ]
    },
    {
     "name": "stderr",
     "output_type": "stream",
     "text": [
      "INFO|Entering into Evaluate\n"
     ]
    },
    {
     "name": "stdout",
     "output_type": "stream",
     "text": [
      "epoch   4| accuracy    0.868\n"
     ]
    },
    {
     "name": "stderr",
     "output_type": "stream",
     "text": [
      "INFO|Entering into Train\n"
     ]
    },
    {
     "name": "stdout",
     "output_type": "stream",
     "text": [
      "-----------------------------------------------------------\n",
      "End of Epoch:4.000 | time: 1706177429.8609402 | accuracy: 0.501\n",
      "epoch   5| accuracy    0.872\n",
      "epoch   5| accuracy    0.885\n"
     ]
    },
    {
     "name": "stderr",
     "output_type": "stream",
     "text": [
      "INFO|Entering into Evaluate\n"
     ]
    },
    {
     "name": "stdout",
     "output_type": "stream",
     "text": [
      "epoch   5| accuracy    0.868\n"
     ]
    },
    {
     "name": "stderr",
     "output_type": "stream",
     "text": [
      "INFO|Entering into Train\n"
     ]
    },
    {
     "name": "stdout",
     "output_type": "stream",
     "text": [
      "-----------------------------------------------------------\n",
      "End of Epoch:5.000 | time: 1706177433.8397303 | accuracy: 0.501\n",
      "epoch   6| accuracy    0.872\n",
      "epoch   6| accuracy    0.885\n"
     ]
    },
    {
     "name": "stderr",
     "output_type": "stream",
     "text": [
      "INFO|Entering into Evaluate\n"
     ]
    },
    {
     "name": "stdout",
     "output_type": "stream",
     "text": [
      "epoch   6| accuracy    0.868\n"
     ]
    },
    {
     "name": "stderr",
     "output_type": "stream",
     "text": [
      "INFO|Entering into Train\n"
     ]
    },
    {
     "name": "stdout",
     "output_type": "stream",
     "text": [
      "-----------------------------------------------------------\n",
      "End of Epoch:6.000 | time: 1706177437.803828 | accuracy: 0.501\n",
      "epoch   7| accuracy    0.872\n",
      "epoch   7| accuracy    0.885\n"
     ]
    },
    {
     "name": "stderr",
     "output_type": "stream",
     "text": [
      "INFO|Entering into Evaluate\n"
     ]
    },
    {
     "name": "stdout",
     "output_type": "stream",
     "text": [
      "epoch   7| accuracy    0.868\n"
     ]
    },
    {
     "name": "stderr",
     "output_type": "stream",
     "text": [
      "INFO|Entering into Train\n"
     ]
    },
    {
     "name": "stdout",
     "output_type": "stream",
     "text": [
      "-----------------------------------------------------------\n",
      "End of Epoch:7.000 | time: 1706177441.7510226 | accuracy: 0.501\n",
      "epoch   8| accuracy    0.872\n",
      "epoch   8| accuracy    0.885\n"
     ]
    },
    {
     "name": "stderr",
     "output_type": "stream",
     "text": [
      "INFO|Entering into Evaluate\n"
     ]
    },
    {
     "name": "stdout",
     "output_type": "stream",
     "text": [
      "epoch   8| accuracy    0.868\n"
     ]
    },
    {
     "name": "stderr",
     "output_type": "stream",
     "text": [
      "INFO|Entering into Train\n"
     ]
    },
    {
     "name": "stdout",
     "output_type": "stream",
     "text": [
      "-----------------------------------------------------------\n",
      "End of Epoch:8.000 | time: 1706177445.7017293 | accuracy: 0.501\n",
      "epoch   9| accuracy    0.872\n",
      "epoch   9| accuracy    0.885\n"
     ]
    },
    {
     "name": "stderr",
     "output_type": "stream",
     "text": [
      "INFO|Entering into Evaluate\n"
     ]
    },
    {
     "name": "stdout",
     "output_type": "stream",
     "text": [
      "epoch   9| accuracy    0.868\n"
     ]
    },
    {
     "name": "stderr",
     "output_type": "stream",
     "text": [
      "INFO|Entering into Train\n"
     ]
    },
    {
     "name": "stdout",
     "output_type": "stream",
     "text": [
      "-----------------------------------------------------------\n",
      "End of Epoch:9.000 | time: 1706177449.663182 | accuracy: 0.501\n",
      "epoch  10| accuracy    0.872\n",
      "epoch  10| accuracy    0.885\n"
     ]
    },
    {
     "name": "stderr",
     "output_type": "stream",
     "text": [
      "INFO|Entering into Evaluate\n"
     ]
    },
    {
     "name": "stdout",
     "output_type": "stream",
     "text": [
      "epoch  10| accuracy    0.868\n",
      "-----------------------------------------------------------\n",
      "End of Epoch:10.000 | time: 1706177453.6257198 | accuracy: 0.501\n"
     ]
    }
   ],
   "source": [
    "for epoch in range(1, EPOCHS + 1):\n",
    "    epoch_st = time.time()\n",
    "    train(model_imdb, train_imdb_loader)\n",
    "    accu_val = evaluate(model_imdb, test_imdb_loader)\n",
    "    if total_accu is not None and total_accu > accu_val:\n",
    "        scheduler.step()\n",
    "    else:\n",
    "        total_accu = accu_val\n",
    "    print(\"-\" * 59)\n",
    "    print(f\"End of Epoch:{epoch:.3f} | time: {time.time()} | accuracy: {accu_val}\")"
   ]
  },
  {
   "cell_type": "code",
   "execution_count": 44,
   "metadata": {},
   "outputs": [],
   "source": [
    "save_model = \"/home/kamal/gitfolders/pytorch_hardway/data/model_archive/imbd_model.pt\"\n",
    "imdb_model_cp = {\n",
    "    \"epoch\": EPOCHS,\n",
    "    \"model\": model_imdb.state_dict(),\n",
    "    \"optimizer\": optimizer.state_dict()\n",
    "}\n",
    "torch.save(imdb_model_cp, save_model)"
   ]
  },
  {
   "cell_type": "code",
   "execution_count": 50,
   "metadata": {},
   "outputs": [],
   "source": [
    "# infering classification from the sentence, using the given model\n",
    "\n",
    "trial = list(test_imdb)[10][1]"
   ]
  },
  {
   "cell_type": "code",
   "execution_count": 58,
   "metadata": {},
   "outputs": [
    {
     "name": "stdout",
     "output_type": "stream",
     "text": [
      "tensor([[0.1476, 0.0676]], device='cuda:0')\n"
     ]
    }
   ],
   "source": [
    "# We have to tokenize, vectorize and then send to the model\n",
    "trial_token = imdb_text_pipeline(trial)\n",
    "trial_token = torch.tensor(trial_token, dtype=torch.int64, device=device)\n",
    "offset = torch.tensor([0], device=device)\n",
    "with torch.no_grad():\n",
    "    pred = model_imdb(trial_token, offset)\n",
    "\n",
    "print(pred)"
   ]
  },
  {
   "cell_type": "code",
   "execution_count": 22,
   "metadata": {},
   "outputs": [],
   "source": [
    "def classification_inference(sentence, tokeniser_pipeline, model):\n",
    "    tokens = tokeniser_pipeline(sentence)\n",
    "    tensor_tokens = torch.tensor(tokens,\n",
    "                                 dtype=torch.int64,\n",
    "                                 device=device)\n",
    "    offset = torch.tensor([0], device=device)\n",
    "    with torch.no_grad():\n",
    "        pred = model(tokens, offset)\n",
    "\n",
    "    return pred"
   ]
  },
  {
   "cell_type": "code",
   "execution_count": 30,
   "metadata": {},
   "outputs": [],
   "source": [
    "from typing import List, Callable\n",
    "\n",
    "def collate_db(batch: List):\n",
    "    \"\"\"Batches of lables and text returned as label and text lists\"\"\"\n",
    "    label_list, text_list, offsets = [], [], [0]\n",
    "    for point in batch:\n",
    "        label_list.append(label_pipeline(point[0]))  # labels are in the first element\n",
    "        process_text = torch.tensor(db_text_pipeline(point[-1]), dtype=torch.int64)\n",
    "        # text are in the last element in the datasets\n",
    "        text_list.append(process_text)\n",
    "        offsets.append(process_text.size(0))\n",
    "\n",
    "    label_list = torch.tensor(label_list, dtype=torch.int64)\n",
    "    offsets = torch.tensor(offsets[:-1]).cumsum(dim=0)\n",
    "    text_list = torch.cat(text_list)\n",
    "    return label_list.to(device), text_list.to(device), offsets.to(device)"
   ]
  },
  {
   "cell_type": "code",
   "execution_count": 31,
   "metadata": {},
   "outputs": [],
   "source": [
    "db_test_loader = DataLoader(\n",
    "    dataset=db_test_pipe, batch_size=8, shuffle=False, collate_fn=collate_db\n",
    ")\n",
    "\n",
    "db_train_loader = DataLoader(\n",
    "    dataset=db_train_pipe, batch_size=8, shuffle=False, collate_fn=collate_db\n",
    ")"
   ]
  },
  {
   "cell_type": "code",
   "execution_count": 55,
   "metadata": {},
   "outputs": [],
   "source": [
    "def collate_yh(batch: List):\n",
    "    \"\"\"Batches of lables and text returned as label and text lists\n",
    "    and takes care the model recieves standard data input\"\"\"\n",
    "    label_list, text_list, offsets = [], [], [0]\n",
    "    for point in batch:\n",
    "        label_list.append(label_pipeline(point[0]))  # labels are in the first element\n",
    "        process_text = torch.tensor(yh_text_pipeline(point[-1]), dtype=torch.int64)\n",
    "        # text are in the last element in the datasets\n",
    "        text_list.append(process_text)\n",
    "        offsets.append(process_text.size(0))\n",
    "\n",
    "    label_list = torch.tensor(label_list, dtype=torch.int64)\n",
    "    offsets = torch.tensor(offsets[:-1]).cumsum(dim=0)\n",
    "    text_list = torch.cat(text_list)\n",
    "    return label_list.to(device), text_list.to(device), offsets.to(device)"
   ]
  },
  {
   "cell_type": "code",
   "execution_count": 33,
   "metadata": {},
   "outputs": [],
   "source": [
    "yh_test_loader = DataLoader(\n",
    "    dataset=yh_test_pipe, batch_size=8, shuffle=False, collate_fn=collate_yh\n",
    ")\n",
    "\n",
    "yh_train_loader = DataLoader(\n",
    "    dataset=yh_train_pipe, batch_size=8, shuffle=False, collate_fn=collate_yh\n",
    ")"
   ]
  },
  {
   "cell_type": "code",
   "execution_count": 37,
   "metadata": {},
   "outputs": [],
   "source": [
    "db_vocab_size = len(db_vocab)\n",
    "db_num_class = len(set_db_labels)\n",
    "\n",
    "model_db = TextClassificationModel(db_vocab_size, 64, db_num_class)\n",
    "model_db = model_db.to(device=device)"
   ]
  },
  {
   "cell_type": "code",
   "execution_count": null,
   "metadata": {},
   "outputs": [],
   "source": [
    "EPOCHS = 10\n",
    "LR = 5\n",
    "BATCH = 64\n",
    "criterion = torch.nn.CrossEntropyLoss()\n",
    "optimizer = optim.SGD(model_db.parameters(), lr=LR)\n",
    "scheduler = optim.lr_scheduler.StepLR(optimizer, 1.0, gamma=0.1)\n",
    "total_accu = None \n",
    "    \n",
    "for epoch in range(1, EPOCHS + 1):\n",
    "    epoch_st = time.time()\n",
    "    train(model_db, db_train_loader)\n",
    "    accu_val = evaluate(model_db, db_test_loader)\n",
    "    if total_accu is not None and total_accu > accu_val:\n",
    "        scheduler.step()\n",
    "    else:\n",
    "        total_accu = accu_val\n",
    "    print(\"-\" * 59)\n",
    "    print(f\"End of Epoch:{epoch:.3f} | time: {time.time()} | accuracy: {accu_val}\")"
   ]
  },
  {
   "cell_type": "code",
   "execution_count": 38,
   "metadata": {},
   "outputs": [],
   "source": [
    "yh_vocab_size = len(yh_vocab)\n",
    "yh_num_classes = len(set_yh_label)\n",
    "model_yh = TextClassificationModel(yh_vocab_size, 64, yh_num_classes)\n",
    "model_yh = model_yh.to(device=device)"
   ]
  },
  {
   "cell_type": "code",
   "execution_count": null,
   "metadata": {},
   "outputs": [],
   "source": [
    "EPOCHS = 10\n",
    "LR = 5\n",
    "BATCH = 64\n",
    "criterion = torch.nn.CrossEntropyLoss()\n",
    "optimizer = optim.SGD(model_yh.parameters(), lr=LR)\n",
    "scheduler = optim.lr_scheduler.StepLR(optimizer, 1.0, gamma=0.1)\n",
    "total_accu = None \n",
    "    \n",
    "for epoch in range(1, EPOCHS + 1):\n",
    "    epoch_st = time.time()\n",
    "    train(model_yh, yh_train_loader)\n",
    "    accu_val = evaluate(model_yh, yh_test_loader)\n",
    "    if total_accu is not None and total_accu > accu_val:\n",
    "        scheduler.step()\n",
    "    else:\n",
    "        total_accu = accu_val\n",
    "    print(\"-\" * 59)\n",
    "    print(f\"End of Epoch:{epoch:.3f} | time: {time.time()} | accuracy: {accu_val}\")"
   ]
  },
  {
   "cell_type": "code",
   "execution_count": 1,
   "metadata": {},
   "outputs": [],
   "source": [
    "from torchtext.datasets import CNNDM, SQuAD2\n",
    "\n",
    "squad_train, squad_test = SQuAD2(split=('train', 'dev'))"
   ]
  },
  {
   "cell_type": "code",
   "execution_count": 6,
   "metadata": {},
   "outputs": [
    {
     "data": {
      "text/plain": [
       "11873"
      ]
     },
     "execution_count": 6,
     "metadata": {},
     "output_type": "execute_result"
    }
   ],
   "source": [
    "len(list(squad_test))"
   ]
  },
  {
   "cell_type": "code",
   "execution_count": 3,
   "metadata": {},
   "outputs": [],
   "source": [
    "# CNN data_source\n",
    "cnndm_train, cnndm_val, cnndm_test = CNNDM(split=('train', 'val', 'test'))"
   ]
  },
  {
   "cell_type": "code",
   "execution_count": null,
   "metadata": {},
   "outputs": [],
   "source": []
  }
 ],
 "metadata": {
  "kernelspec": {
   "display_name": "Python 3",
   "language": "python",
   "name": "python3"
  },
  "language_info": {
   "codemirror_mode": {
    "name": "ipython",
    "version": 3
   },
   "file_extension": ".py",
   "mimetype": "text/x-python",
   "name": "python",
   "nbconvert_exporter": "python",
   "pygments_lexer": "ipython3",
   "version": "3.11.4"
  }
 },
 "nbformat": 4,
 "nbformat_minor": 2
}
