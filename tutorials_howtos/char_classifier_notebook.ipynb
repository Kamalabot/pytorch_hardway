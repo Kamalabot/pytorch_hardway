{
 "cells": [
  {
   "cell_type": "code",
   "execution_count": 55,
   "metadata": {},
   "outputs": [],
   "source": [
    "import char_classifier_rnn as crnn\n",
    "from torch import nn"
   ]
  },
  {
   "cell_type": "code",
   "execution_count": 2,
   "metadata": {},
   "outputs": [
    {
     "name": "stdout",
     "output_type": "stream",
     "text": [
      "Slusarski\n"
     ]
    }
   ],
   "source": [
    "print(crnn.unicodeToAscii('Ślusàrski'))"
   ]
  },
  {
   "cell_type": "code",
   "execution_count": 3,
   "metadata": {},
   "outputs": [
    {
     "name": "stdout",
     "output_type": "stream",
     "text": [
      "56\n"
     ]
    }
   ],
   "source": [
    "print(crnn.n_letter)"
   ]
  },
  {
   "cell_type": "code",
   "execution_count": 7,
   "metadata": {},
   "outputs": [
    {
     "name": "stdout",
     "output_type": "stream",
     "text": [
      "['D:\\\\gitFolders\\\\pytorch_hardway\\\\data\\\\names_data\\\\names\\\\Arabic.txt', 'D:\\\\gitFolders\\\\pytorch_hardway\\\\data\\\\names_data\\\\names\\\\Chinese.txt', 'D:\\\\gitFolders\\\\pytorch_hardway\\\\data\\\\names_data\\\\names\\\\Czech.txt', 'D:\\\\gitFolders\\\\pytorch_hardway\\\\data\\\\names_data\\\\names\\\\Dutch.txt', 'D:\\\\gitFolders\\\\pytorch_hardway\\\\data\\\\names_data\\\\names\\\\English.txt', 'D:\\\\gitFolders\\\\pytorch_hardway\\\\data\\\\names_data\\\\names\\\\French.txt', 'D:\\\\gitFolders\\\\pytorch_hardway\\\\data\\\\names_data\\\\names\\\\German.txt', 'D:\\\\gitFolders\\\\pytorch_hardway\\\\data\\\\names_data\\\\names\\\\Greek.txt', 'D:\\\\gitFolders\\\\pytorch_hardway\\\\data\\\\names_data\\\\names\\\\Irish.txt', 'D:\\\\gitFolders\\\\pytorch_hardway\\\\data\\\\names_data\\\\names\\\\Italian.txt', 'D:\\\\gitFolders\\\\pytorch_hardway\\\\data\\\\names_data\\\\names\\\\Japanese.txt', 'D:\\\\gitFolders\\\\pytorch_hardway\\\\data\\\\names_data\\\\names\\\\Korean.txt', 'D:\\\\gitFolders\\\\pytorch_hardway\\\\data\\\\names_data\\\\names\\\\Polish.txt', 'D:\\\\gitFolders\\\\pytorch_hardway\\\\data\\\\names_data\\\\names\\\\Portuguese.txt', 'D:\\\\gitFolders\\\\pytorch_hardway\\\\data\\\\names_data\\\\names\\\\Russian.txt', 'D:\\\\gitFolders\\\\pytorch_hardway\\\\data\\\\names_data\\\\names\\\\Scottish.txt', 'D:\\\\gitFolders\\\\pytorch_hardway\\\\data\\\\names_data\\\\names\\\\Spanish.txt', 'D:\\\\gitFolders\\\\pytorch_hardway\\\\data\\\\names_data\\\\names\\\\Vietnamese.txt']\n"
     ]
    }
   ],
   "source": [
    "import glob\n",
    "\n",
    "all_filenames = glob.glob(crnn.file_path)\n",
    "print(all_filenames)"
   ]
  },
  {
   "cell_type": "code",
   "execution_count": 12,
   "metadata": {},
   "outputs": [],
   "source": [
    "category_lines = {}\n",
    "all_categs = []\n",
    "n_categs = []"
   ]
  },
  {
   "cell_type": "code",
   "execution_count": 32,
   "metadata": {},
   "outputs": [
    {
     "data": {
      "text/plain": [
       "['Arabic',\n",
       " 'Chinese',\n",
       " 'Czech',\n",
       " 'Dutch',\n",
       " 'English',\n",
       " 'French',\n",
       " 'German',\n",
       " 'Greek',\n",
       " 'Irish',\n",
       " 'Italian',\n",
       " 'Japanese',\n",
       " 'Korean',\n",
       " 'Polish',\n",
       " 'Portuguese',\n",
       " 'Russian',\n",
       " 'Scottish',\n",
       " 'Spanish',\n",
       " 'Vietnamese']"
      ]
     },
     "execution_count": 32,
     "metadata": {},
     "output_type": "execute_result"
    }
   ],
   "source": [
    "all_categs"
   ]
  },
  {
   "cell_type": "code",
   "execution_count": 13,
   "metadata": {},
   "outputs": [
    {
     "name": "stdout",
     "output_type": "stream",
     "text": [
      "n_categories = 18\n"
     ]
    }
   ],
   "source": [
    "import os\n",
    "for filename in crnn.findFiles(crnn.file_path):\n",
    "    category = os.path.splitext(os.path.basename(filename))[0]\n",
    "    all_categs.append(category)\n",
    "    lines = crnn.readLines(filename)\n",
    "    category_lines[category] = lines\n",
    "\n",
    "n_categs = len(all_categs)\n",
    "print('n_categories =', n_categs)"
   ]
  },
  {
   "cell_type": "code",
   "execution_count": 14,
   "metadata": {},
   "outputs": [
    {
     "name": "stdout",
     "output_type": "stream",
     "text": [
      "tensor([[0., 0., 0., 0., 0., 0., 0., 0., 0., 1., 0., 0., 0., 0., 0., 0., 0., 0.,\n",
      "         0., 0., 0., 0., 0., 0., 0., 0., 0., 0., 0., 0., 0., 0., 0., 0., 0., 0.,\n",
      "         0., 0., 0., 0., 0., 0., 0., 0., 0., 0., 0., 0., 0., 0., 0., 0., 0., 0.,\n",
      "         0., 0.]])\n"
     ]
    }
   ],
   "source": [
    "print(crnn.letterToTensor(\"j\"))"
   ]
  },
  {
   "cell_type": "code",
   "execution_count": 16,
   "metadata": {},
   "outputs": [
    {
     "name": "stdout",
     "output_type": "stream",
     "text": [
      "torch.Size([4, 1, 56])\n"
     ]
    }
   ],
   "source": [
    "print(crnn.lineToTensor(\"Jake\").size())"
   ]
  },
  {
   "cell_type": "code",
   "execution_count": 40,
   "metadata": {},
   "outputs": [],
   "source": [
    "n_hidden = 128\n",
    "rnn = crnn.RNN(crnn.n_letter, n_hidden, n_categs)\n",
    "# n_categs is 18 / n_letter = 56 "
   ]
  },
  {
   "cell_type": "code",
   "execution_count": 41,
   "metadata": {},
   "outputs": [],
   "source": [
    "# Pytorch modules operate on Variables, rather than Tensors\n",
    "from torch.autograd import Variable\n",
    "import torch\n",
    "\n",
    "input = Variable(crnn.lineToTensor('Albert'))\n",
    "hidden = rnn.initHidden() "
   ]
  },
  {
   "cell_type": "code",
   "execution_count": 37,
   "metadata": {},
   "outputs": [
    {
     "name": "stdout",
     "output_type": "stream",
     "text": [
      "torch.Size([1, 128])\n",
      "torch.Size([6, 1, 56])\n"
     ]
    }
   ],
   "source": [
    "print(hidden.size())\n",
    "print(input.size())"
   ]
  },
  {
   "cell_type": "code",
   "execution_count": null,
   "metadata": {},
   "outputs": [],
   "source": [
    "output, next_hidden = rnn(input, hidden)  # The hidden tensor is 1 row and 128 cols\n",
    "print(output)\n",
    "# RuntimeError: Tensors must have same number of dimensions: got 3 and 2"
   ]
  },
  {
   "cell_type": "code",
   "execution_count": 42,
   "metadata": {},
   "outputs": [],
   "source": [
    "output, next_hidden = rnn(input[0], hidden)  # will pass through"
   ]
  },
  {
   "cell_type": "code",
   "execution_count": 43,
   "metadata": {},
   "outputs": [
    {
     "name": "stdout",
     "output_type": "stream",
     "text": [
      "tensor([[-2.8881, -2.9622, -2.9041, -2.9697, -2.8468, -2.8747, -2.7685, -2.8377,\n",
      "         -3.0166, -2.8764, -2.8489, -2.8080, -2.9115, -2.9277, -2.9687, -2.7886,\n",
      "         -2.9553, -2.9128]], grad_fn=<LogSoftmaxBackward0>)\n"
     ]
    }
   ],
   "source": [
    "print(output)"
   ]
  },
  {
   "cell_type": "code",
   "execution_count": 44,
   "metadata": {},
   "outputs": [],
   "source": [
    "topn, topi = output.topk(1)"
   ]
  },
  {
   "cell_type": "code",
   "execution_count": 45,
   "metadata": {},
   "outputs": [
    {
     "data": {
      "text/plain": [
       "6"
      ]
     },
     "execution_count": 45,
     "metadata": {},
     "output_type": "execute_result"
    }
   ],
   "source": [
    "topi[0].item()"
   ]
  },
  {
   "cell_type": "code",
   "execution_count": 47,
   "metadata": {},
   "outputs": [],
   "source": [
    "# the all_categs variable is not getting picked up\n",
    "# inside the function, when called through module\n",
    "def categFromOutput(output):\n",
    "    \"\"\"Returns the category and its index\"\"\"\n",
    "    top_n, top_i = output.topk(1)  # Values=tensor([[1.8665]]), indices=tensor([[5]])\n",
    "    category_i = top_i[0].item()  # 1.8665186378\n",
    "    return all_categs[category_i], category_i\n",
    "# print(categFromOutput(output))   # ('Polish', 12)"
   ]
  },
  {
   "cell_type": "code",
   "execution_count": 48,
   "metadata": {},
   "outputs": [
    {
     "name": "stdout",
     "output_type": "stream",
     "text": [
      "('German', 6)\n"
     ]
    }
   ],
   "source": [
    "print(categFromOutput(output))"
   ]
  },
  {
   "attachments": {
    "image.png": {
     "image/png": "[encoded data removed]"
    }
   },
   "cell_type": "markdown",
   "metadata": {},
   "source": [
    "![image.png](attachment:image.png)"
   ]
  },
  {
   "cell_type": "code",
   "execution_count": 54,
   "metadata": {},
   "outputs": [],
   "source": [
    "class RNN(nn.Module):\n",
    "    def __init__(self, input_size, hidden_size, output_size):\n",
    "        super(RNN, self).__init__()\n",
    "        self.hidden_size = hidden_size\n",
    "        self.i2h = nn.Linear(in_features=input_size + hidden_size,\n",
    "                             out_features=hidden_size)\n",
    "        # hidden_size is for the tensor that needs to be predicted \n",
    "        # based on the input_size tensor that is provided by the \n",
    "        # current letter \n",
    "        self.h2o = nn.Linear(in_features=hidden_size,\n",
    "                             out_features=output_size)\n",
    "        self.softmax = nn.LogSoftmax(dim=1)\n",
    "\n",
    "    def forward(self, input, hidden):\n",
    "        combined = torch.cat((input, hidden), 1)\n",
    "        hidden = self.i2h(combined)\n",
    "        output = self.h2o(hidden)\n",
    "        output = self.softmax(output)\n",
    "        return output, hidden\n",
    "\n",
    "    def initHidden(self):\n",
    "        # initing the hidden as zeros to begin with\n",
    "        return Variable(torch.zeros(1, self.hidden_size))"
   ]
  },
  {
   "cell_type": "code",
   "execution_count": 50,
   "metadata": {},
   "outputs": [],
   "source": [
    "def randomTrainingExample():\n",
    "    categ = crnn.randomChoice(all_categs)  # 0 to 18\n",
    "    name = crnn.randomChoice(category_lines[categ])  # one of names from above categ \n",
    "    categ_tensor = torch.tensor([all_categs.index(categ)],\n",
    "                                dtype=torch.long)\n",
    "    name_tensor = crnn.lineToTensor(name)\n",
    "    return categ, name, categ_tensor, name_tensor"
   ]
  },
  {
   "cell_type": "code",
   "execution_count": 51,
   "metadata": {},
   "outputs": [
    {
     "name": "stdout",
     "output_type": "stream",
     "text": [
      "category = Chinese / line = Lau\n",
      "category = Polish / line = Zdunowski\n",
      "category = French / line = Babineaux\n",
      "category = Chinese / line = Yang\n",
      "category = Korean / line = San\n",
      "category = Portuguese / line = Belo\n",
      "category = Russian / line = Babchenko\n",
      "category = Vietnamese / line = Trang\n",
      "category = Czech / line = Peary\n",
      "category = English / line = Kinsley\n"
     ]
    }
   ],
   "source": [
    "for i in range(10):\n",
    "    category, line, category_tensor, line_tensor = randomTrainingExample()\n",
    "    print('category =', category, '/ line =', line)"
   ]
  },
  {
   "cell_type": "code",
   "execution_count": 52,
   "metadata": {},
   "outputs": [],
   "source": [
    "criterion = nn.NLLLoss()\n",
    "learning_rate = 0.005 # If you set this too high, it might explode. If too low, it might not learn\n",
    "optimizer = torch.optim.SGD(rnn.parameters(), lr=learning_rate)"
   ]
  },
  {
   "cell_type": "code",
   "execution_count": null,
   "metadata": {},
   "outputs": [],
   "source": [
    "import time\n",
    "import math\n",
    "\n",
    "n_epochs = 100000\n",
    "print_every = 5000\n",
    "plot_every = 1000\n",
    "\n",
    "start = time.time()\n",
    "\n",
    "# Keep track of losses for plotting\n",
    "current_loss = 0\n",
    "all_losses = []\n",
    "\n",
    "for epoch in range(1, n_epochs + 1):\n",
    "    # Get a random training input and target\n",
    "    category, line, category_tensor, line_tensor = randomTrainingExample()\n",
    "    output, loss = crnn.train(category_tensor, line_tensor)  # Will error out\n",
    "    current_loss += loss\n",
    "    \n",
    "    # Print epoch number, loss, name and guess\n",
    "    if epoch % print_every == 0:\n",
    "        guess, guess_i = categFromOutput(output)\n",
    "        correct = '✓' if guess == category else '✗ (%s)' % category\n",
    "        print('%d %d%% (%s) %.4f %s / %s %s' % (epoch, epoch / n_epochs * 100, \n",
    "                                                crnn.time_since(start), loss, line, guess, correct))\n",
    "\n",
    "    # Add current loss avg to list of losses\n",
    "    if epoch % plot_every == 0:\n",
    "        all_losses.append(current_loss / plot_every)\n",
    "        current_loss = 0\n",
    "# The above code will fail, as the train function will not have the rnn object required for it"
   ]
  }
 ],
 "metadata": {
  "kernelspec": {
   "display_name": "Python 3",
   "language": "python",
   "name": "python3"
  },
  "language_info": {
   "codemirror_mode": {
    "name": "ipython",
    "version": 3
   },
   "file_extension": ".py",
   "mimetype": "text/x-python",
   "name": "python",
   "nbconvert_exporter": "python",
   "pygments_lexer": "ipython3",
   "version": "3.11.4"
  }
 },
 "nbformat": 4,
 "nbformat_minor": 2
}
